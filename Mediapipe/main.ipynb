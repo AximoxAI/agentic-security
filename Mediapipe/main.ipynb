{
 "cells": [
  {
   "cell_type": "code",
   "execution_count": 1,
   "id": "49411d07",
   "metadata": {},
   "outputs": [
    {
     "name": "stderr",
     "output_type": "stream",
     "text": [
      "/Users/priyanka./Documents/Mediapipe/venv/lib/python3.11/site-packages/tqdm/auto.py:21: TqdmWarning: IProgress not found. Please update jupyter and ipywidgets. See https://ipywidgets.readthedocs.io/en/stable/user_install.html\n",
      "  from .autonotebook import tqdm as notebook_tqdm\n"
     ]
    }
   ],
   "source": [
    "import mediapipe as mp\n",
    "import cv2\n",
    "import numpy as np\n",
    "import phoenix as px\n",
    "from opentelemetry import trace\n",
    "from phoenix.otel import register"
   ]
  },
  {
   "cell_type": "code",
   "execution_count": 2,
   "id": "01543e6c",
   "metadata": {},
   "outputs": [
    {
     "name": "stdout",
     "output_type": "stream",
     "text": [
      "❗️ The launch_app `port` parameter is deprecated and will be removed in a future release. Use the `PHOENIX_PORT` environment variable instead.\n"
     ]
    },
    {
     "name": "stderr",
     "output_type": "stream",
     "text": [
      "/opt/homebrew/Cellar/python@3.11/3.11.13/Frameworks/Python.framework/Versions/3.11/lib/python3.11/contextlib.py:144: SAWarning: Skipped unsupported reflection of expression-based index ix_cumulative_llm_token_count_total\n",
      "  next(self.gen)\n",
      "/opt/homebrew/Cellar/python@3.11/3.11.13/Frameworks/Python.framework/Versions/3.11/lib/python3.11/contextlib.py:144: SAWarning: Skipped unsupported reflection of expression-based index ix_latency\n",
      "  next(self.gen)\n",
      "Overriding of current TracerProvider is not allowed\n"
     ]
    },
    {
     "name": "stdout",
     "output_type": "stream",
     "text": [
      "🌍 To view the Phoenix app in your browser, visit http://localhost:6006/\n",
      "📖 For more information on how to use Phoenix, check out https://arize.com/docs/phoenix\n",
      "🔭 OpenTelemetry Tracing Details 🔭\n",
      "|  Phoenix Project: pushup-app\n",
      "|  Span Processor: SimpleSpanProcessor\n",
      "|  Collector Endpoint: http://localhost:6006/v1/traces\n",
      "|  Transport: HTTP + protobuf\n",
      "|  Transport Headers: {}\n",
      "|  \n",
      "|  Using a default SpanProcessor. `add_span_processor` will overwrite this default.\n",
      "|  \n",
      "|  ⚠️ WARNING: It is strongly advised to use a BatchSpanProcessor in production environments.\n",
      "|  \n",
      "|  `register` has set this TracerProvider as the global OpenTelemetry default.\n",
      "|  To disable this behavior, call `register` with `set_global_tracer_provider=False`.\n",
      "\n"
     ]
    }
   ],
   "source": [
    "# Setup Phoenix tracing\n",
    "px.launch_app(port=6006)\n",
    "tracer_provider = register(\n",
    "    project_name=\"pushup-app\",\n",
    "    endpoint=\"http://localhost:6006/v1/traces\",\n",
    "    batch=False\n",
    ")\n",
    "trace.set_tracer_provider(tracer_provider)\n",
    "tracer = trace.get_tracer(__name__)"
   ]
  },
  {
   "cell_type": "code",
   "execution_count": 3,
   "id": "9ac72677",
   "metadata": {},
   "outputs": [
    {
     "name": "stderr",
     "output_type": "stream",
     "text": [
      "WARNING: All log messages before absl::InitializeLog() is called are written to STDERR\n",
      "I0000 00:00:1756732065.830997 4874411 gl_context.cc:369] GL version: 2.1 (2.1 Metal - 89.4), renderer: Apple M1\n"
     ]
    },
    {
     "name": "stderr",
     "output_type": "stream",
     "text": [
      "INFO: Created TensorFlow Lite XNNPACK delegate for CPU.\n",
      "W0000 00:00:1756732065.964797 4875195 inference_feedback_manager.cc:114] Feedback manager requires a model with a single signature inference. Disabling support for feedback tensors.\n",
      "W0000 00:00:1756732065.985403 4875200 inference_feedback_manager.cc:114] Feedback manager requires a model with a single signature inference. Disabling support for feedback tensors.\n"
     ]
    }
   ],
   "source": [
    "# Mediapipe pose setup\n",
    "mp_drawing = mp.solutions.drawing_utils\n",
    "mp_pose = mp.solutions.pose\n",
    "pose = mp_pose.Pose()"
   ]
  },
  {
   "cell_type": "code",
   "execution_count": 4,
   "id": "4604d405",
   "metadata": {},
   "outputs": [],
   "source": [
    "# Angle calculation utility (fixed)\n",
    "def calculate_angle(a, b, c):\n",
    "    a = np.array(a)\n",
    "    b = np.array(b)\n",
    "    c = np.array(c)\n",
    "    radians = np.arctan2(c[1] - b[1], c[0] - b[0]) - np.arctan2(a[1] - b[1], a[0] - b[0])\n",
    "    angle = np.abs(radians * 180.0 / np.pi)\n",
    "    if angle > 180.0:\n",
    "        angle = 360 - angle\n",
    "    return angle"
   ]
  },
  {
   "cell_type": "code",
   "execution_count": 5,
   "id": "b0c2b660",
   "metadata": {},
   "outputs": [],
   "source": [
    "counter = 0\n",
    "stage = None\n",
    "\n",
    "def process_frame_pipeline(frame):\n",
    "    global counter, stage\n",
    "\n",
    "    # Recolor BGR to RGB\n",
    "    image_rgb = cv2.cvtColor(frame, cv2.COLOR_BGR2RGB)\n",
    "    image_rgb.flags.writeable = False\n",
    "\n",
    "    # Pose detection\n",
    "    results = pose.process(image_rgb)\n",
    "\n",
    "    # Prepare output dictionary for tracing attributes\n",
    "    pipeline_attrs = {\n",
    "        \"landmarks_detected\": False,\n",
    "        \"shoulder\": None,\n",
    "        \"elbow\": None,\n",
    "        \"wrist\": None,\n",
    "        \"angle\": None,\n",
    "        \"counter\": counter,\n",
    "        \"stage\": stage,\n",
    "    }\n",
    "\n",
    "    image_rgb.flags.writeable = True\n",
    "    image_bgr = cv2.cvtColor(image_rgb, cv2.COLOR_RGB2BGR)\n",
    "\n",
    "    try:\n",
    "        if results.pose_landmarks:\n",
    "            landmarks = results.pose_landmarks.landmark\n",
    "            pipeline_attrs[\"landmarks_detected\"] = True\n",
    "            shoulder = [landmarks[mp_pose.PoseLandmark.RIGHT_SHOULDER.value].x,\n",
    "                        landmarks[mp_pose.PoseLandmark.RIGHT_SHOULDER.value].y]\n",
    "            elbow = [landmarks[mp_pose.PoseLandmark.RIGHT_ELBOW.value].x,\n",
    "                     landmarks[mp_pose.PoseLandmark.RIGHT_ELBOW.value].y]\n",
    "            wrist = [landmarks[mp_pose.PoseLandmark.RIGHT_WRIST.value].x,\n",
    "                     landmarks[mp_pose.PoseLandmark.RIGHT_WRIST.value].y]\n",
    "\n",
    "            pipeline_attrs[\"shoulder\"] = shoulder\n",
    "            pipeline_attrs[\"elbow\"] = elbow\n",
    "            pipeline_attrs[\"wrist\"] = wrist\n",
    "\n",
    "            angle = calculate_angle(shoulder, elbow, wrist)\n",
    "            pipeline_attrs[\"angle\"] = angle\n",
    "\n",
    "            # Visualize angle on image\n",
    "            cv2.putText(image_bgr, str(int(angle)),\n",
    "                        tuple(np.multiply(elbow, [640, 480]).astype(int)),\n",
    "                        cv2.FONT_HERSHEY_SIMPLEX, 1, (255, 255, 255), 2, cv2.LINE_AA)\n",
    "\n",
    "            # Push-up counter logic\n",
    "            if angle > 160:\n",
    "                stage = \"up\"\n",
    "            if angle < 70 and stage == \"up\":\n",
    "                stage = \"down\"\n",
    "                counter += 1\n",
    "                print(f\"Push-up Count: {counter}\")\n",
    "\n",
    "            pipeline_attrs[\"counter\"] = counter\n",
    "            pipeline_attrs[\"stage\"] = stage\n",
    "\n",
    "        # Render push-up counter UI on image\n",
    "        cv2.rectangle(image_bgr, (0, 0), (225, 73), (245, 117, 16), -1)\n",
    "        cv2.putText(image_bgr, 'Push-ups', (15, 12),\n",
    "                    cv2.FONT_HERSHEY_SIMPLEX, 0.5, (0, 0, 0), 1, cv2.LINE_AA)\n",
    "        cv2.putText(image_bgr, str(counter), (10, 60),\n",
    "                    cv2.FONT_HERSHEY_SIMPLEX, 2, (255, 255, 255), 2, cv2.LINE_AA)\n",
    "\n",
    "        # Draw pose landmarks\n",
    "        mp_drawing.draw_landmarks(image_bgr, results.pose_landmarks, mp_pose.POSE_CONNECTIONS)\n",
    "\n",
    "    except Exception as e:\n",
    "        pipeline_attrs[\"error.message\"] = str(e)\n",
    "\n",
    "    return image_bgr, pipeline_attrs\n",
    "\n"
   ]
  },
  {
   "cell_type": "code",
   "execution_count": 6,
   "id": "1054ab1a",
   "metadata": {},
   "outputs": [],
   "source": [
    "def main(video_path):\n",
    "    cap = cv2.VideoCapture(video_path)\n",
    "    global counter, stage\n",
    "    while cap.isOpened():\n",
    "        ret, frame = cap.read()\n",
    "        if not ret:\n",
    "            break\n",
    "\n",
    "        # Create a single span per frame pipeline\n",
    "        with tracer.start_as_current_span(\"pushup_pipeline\") as span:\n",
    "            image, attrs = process_frame_pipeline(frame)\n",
    "            for key, val in attrs.items():\n",
    "                # Flatten lists for attribute storage\n",
    "                if isinstance(val, list):\n",
    "                    val = [float(x) for x in val]\n",
    "                span.set_attribute(key, val)\n",
    "\n",
    "        cv2.imshow('Push-up Counter', image)\n",
    "        if cv2.waitKey(10) & 0xFF == ord('q'):\n",
    "            break\n",
    "\n",
    "    cap.release()\n",
    "    cv2.destroyAllWindows()\n"
   ]
  },
  {
   "cell_type": "code",
   "execution_count": 7,
   "id": "33274419",
   "metadata": {},
   "outputs": [
    {
     "name": "stderr",
     "output_type": "stream",
     "text": [
      "W0000 00:00:1756732145.430966 4875195 landmark_projection_calculator.cc:186] Using NORM_RECT without IMAGE_DIMENSIONS is only supported for the square ROI. Provide IMAGE_DIMENSIONS or use PROJECTION_MATRIX.\n"
     ]
    },
    {
     "name": "stdout",
     "output_type": "stream",
     "text": [
      "Push-up Count: 1\n",
      "Push-up Count: 2\n",
      "Push-up Count: 3\n"
     ]
    }
   ],
   "source": [
    "video_path = \"/Users/priyanka./Documents/Mediapipe/push-up_1.mp4\"\n",
    "main(video_path)"
   ]
  },
  {
   "cell_type": "code",
   "execution_count": null,
   "id": "13f478d9",
   "metadata": {},
   "outputs": [],
   "source": []
  }
 ],
 "metadata": {
  "kernelspec": {
   "display_name": "venv",
   "language": "python",
   "name": "python3"
  },
  "language_info": {
   "codemirror_mode": {
    "name": "ipython",
    "version": 3
   },
   "file_extension": ".py",
   "mimetype": "text/x-python",
   "name": "python",
   "nbconvert_exporter": "python",
   "pygments_lexer": "ipython3",
   "version": "3.11.13"
  }
 },
 "nbformat": 4,
 "nbformat_minor": 5
}
