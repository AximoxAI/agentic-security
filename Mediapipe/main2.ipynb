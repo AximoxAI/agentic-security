{
 "cells": [
  {
   "cell_type": "code",
   "execution_count": 117,
   "id": "0111935d",
   "metadata": {},
   "outputs": [],
   "source": [
    "import cv2\n",
    "import mediapipe as mp\n",
    "import numpy as np\n",
    "import phoenix as px\n",
    "from opentelemetry import trace\n",
    "from phoenix.otel import register\n",
    "from opentelemetry.trace import Status, StatusCode"
   ]
  },
  {
   "cell_type": "code",
   "execution_count": 118,
   "id": "79fcef09",
   "metadata": {},
   "outputs": [
    {
     "name": "stderr",
     "output_type": "stream",
     "text": [
      "Existing running Phoenix instance detected! Shutting it down and starting a new instance...\n"
     ]
    },
    {
     "name": "stdout",
     "output_type": "stream",
     "text": [
      "❗️ The launch_app `port` parameter is deprecated and will be removed in a future release. Use the `PHOENIX_PORT` environment variable instead.\n"
     ]
    },
    {
     "name": "stderr",
     "output_type": "stream",
     "text": [
      "Overriding of current TracerProvider is not allowed\n",
      "Overriding of current TracerProvider is not allowed\n"
     ]
    },
    {
     "name": "stdout",
     "output_type": "stream",
     "text": [
      "🌍 To view the Phoenix app in your browser, visit http://localhost:6007/\n",
      "📖 For more information on how to use Phoenix, check out https://arize.com/docs/phoenix\n",
      "🔭 OpenTelemetry Tracing Details 🔭\n",
      "|  Phoenix Project: pushup-app\n",
      "|  Span Processor: SimpleSpanProcessor\n",
      "|  Collector Endpoint: http://localhost:6007/v1/traces\n",
      "|  Transport: HTTP + protobuf\n",
      "|  Transport Headers: {}\n",
      "|  \n",
      "|  Using a default SpanProcessor. `add_span_processor` will overwrite this default.\n",
      "|  \n",
      "|  ⚠️ WARNING: It is strongly advised to use a BatchSpanProcessor in production environments.\n",
      "|  \n",
      "|  `register` has set this TracerProvider as the global OpenTelemetry default.\n",
      "|  To disable this behavior, call `register` with `set_global_tracer_provider=False`.\n",
      "\n"
     ]
    }
   ],
   "source": [
    "px.launch_app(port=6007)\n",
    "tracer_provider = register(\n",
    "    project_name=\"pushup-app\",\n",
    "    endpoint=\"http://localhost:6007/v1/traces\",\n",
    "    batch=False\n",
    ")\n",
    "trace.set_tracer_provider(tracer_provider)\n",
    "tracer = trace.get_tracer(__name__)"
   ]
  },
  {
   "cell_type": "code",
   "execution_count": 119,
   "id": "4ab57759",
   "metadata": {},
   "outputs": [],
   "source": [
    "def calculate_angle(a, b, c):\n",
    "    a = np.array(a)\n",
    "    b = np.array(b)\n",
    "    c = np.array(c)\n",
    "    radians = np.arctan2(c[1] - b[1], c[0] - b[0]) - np.arctan2(a[1] - b[1], a[0] - b[0])\n",
    "    angle = np.abs(radians * 180.0 / np.pi)\n",
    "    if angle > 180.0:\n",
    "        angle = 360 - angle\n",
    "    return angle"
   ]
  },
  {
   "cell_type": "code",
   "execution_count": 120,
   "id": "9f7aeee6",
   "metadata": {},
   "outputs": [],
   "source": [
    "class BaseModel:\n",
    "    def load(self):\n",
    "        raise NotImplementedError\n",
    "\n",
    "    def predict(self, frame):\n",
    "        raise NotImplementedError\n",
    "\n",
    "    def draw(self, frame, results):\n",
    "        return frame"
   ]
  },
  {
   "cell_type": "code",
   "execution_count": 121,
   "id": "5f21ff39",
   "metadata": {},
   "outputs": [],
   "source": [
    "class MediaPipePushupModel(BaseModel):\n",
    "    def __init__(self):\n",
    "        self.pose = None\n",
    "        self.mp_drawing = mp.solutions.drawing_utils\n",
    "        self.mp_pose = mp.solutions.pose\n",
    "\n",
    "    def load(self):\n",
    "        self.pose = self.mp_pose.Pose()\n",
    "\n",
    "    def predict(self, frame):\n",
    "        rgb = cv2.cvtColor(frame, cv2.COLOR_BGR2RGB)\n",
    "        return self.pose.process(rgb)\n",
    "\n",
    "    def draw(self, frame, results):\n",
    "        if results.pose_landmarks:\n",
    "            self.mp_drawing.draw_landmarks(\n",
    "                frame, results.pose_landmarks, self.mp_pose.POSE_CONNECTIONS\n",
    "            )\n",
    "        return frame"
   ]
  },
  {
   "cell_type": "code",
   "execution_count": 122,
   "id": "37c84ed4",
   "metadata": {},
   "outputs": [],
   "source": [
    "def process_frame(frame, model, counter, stage, frame_idx):\n",
    "    with tracer.start_as_current_span(\"frame_processing\") as span:\n",
    "        try:\n",
    "            # Initialize pipeline attributes\n",
    "            pipeline_attrs = {\n",
    "                \"landmarks_detected\": False,\n",
    "                \"shoulder\": None,\n",
    "                \"elbow\": None,\n",
    "                \"wrist\": None,\n",
    "                \"angle_arm\": None,\n",
    "                \"angle_hip\": None,\n",
    "                \"counter\": counter,\n",
    "                \"stage\": stage,\n",
    "                \"incorrect_pose\": None,\n",
    "            }\n",
    "\n",
    "            span.set_attribute(\"frame.index\", frame_idx)\n",
    "            span.set_attribute(\"frame.shape\", str(frame.shape))\n",
    "\n",
    "            # Inference\n",
    "            results = model.predict(frame)\n",
    "            annotated = frame.copy()\n",
    "            annotated = model.draw(annotated, results)\n",
    "\n",
    "            if results.pose_landmarks:\n",
    "                pipeline_attrs[\"landmarks_detected\"] = True\n",
    "                landmarks = results.pose_landmarks.landmark\n",
    "\n",
    "                shoulder = [landmarks[mp.solutions.pose.PoseLandmark.RIGHT_SHOULDER.value].x,\n",
    "                            landmarks[mp.solutions.pose.PoseLandmark.RIGHT_SHOULDER.value].y]\n",
    "                elbow = [landmarks[mp.solutions.pose.PoseLandmark.RIGHT_ELBOW.value].x,\n",
    "                         landmarks[mp.solutions.pose.PoseLandmark.RIGHT_ELBOW.value].y]\n",
    "                wrist = [landmarks[mp.solutions.pose.PoseLandmark.RIGHT_WRIST.value].x,\n",
    "                         landmarks[mp.solutions.pose.PoseLandmark.RIGHT_WRIST.value].y]\n",
    "                hip = [landmarks[mp.solutions.pose.PoseLandmark.RIGHT_HIP.value].x,\n",
    "                       landmarks[mp.solutions.pose.PoseLandmark.RIGHT_HIP.value].y]\n",
    "                knee = [landmarks[mp.solutions.pose.PoseLandmark.RIGHT_KNEE.value].x,\n",
    "                        landmarks[mp.solutions.pose.PoseLandmark.RIGHT_KNEE.value].y]\n",
    "                ankle = [landmarks[mp.solutions.pose.PoseLandmark.RIGHT_ANKLE.value].x,\n",
    "                         landmarks[mp.solutions.pose.PoseLandmark.RIGHT_ANKLE.value].y]\n",
    "\n",
    "\n",
    "                pipeline_attrs[\"shoulder\"] = shoulder\n",
    "                pipeline_attrs[\"elbow\"] = elbow\n",
    "                pipeline_attrs[\"wrist\"] = wrist\n",
    "\n",
    "                # Calculate angles\n",
    "                angle_arm = calculate_angle(shoulder, elbow, wrist)\n",
    "                angle_hip = calculate_angle(hip, knee, ankle)\n",
    "\n",
    "                pipeline_attrs[\"angle_arm\"] = angle_arm\n",
    "                pipeline_attrs[\"angle_hip\"] = angle_hip\n",
    "\n",
    "                # Push-up counting logic\n",
    "                if stage is None:\n",
    "                    stage = \"up\"  # Initialize stage once if None\n",
    "\n",
    "                if angle_arm > 160:\n",
    "                    stage = \"up\"\n",
    "                if angle_arm < 70 and stage == \"up\":\n",
    "                    stage = \"down\"\n",
    "                    counter += 1\n",
    "                    print(f\"Push-up Count: {counter}\")\n",
    "\n",
    "                pipeline_attrs[\"counter\"] = counter\n",
    "                pipeline_attrs[\"stage\"] = stage\n",
    "\n",
    "                # Incorrect pose check\n",
    "                if abs(angle_hip) < 170 :\n",
    "                    pipeline_attrs['incorrect_pose'] = True\n",
    "                else:\n",
    "                    pipeline_attrs['incorrect_pose'] = False\n",
    "\n",
    "                # Draw overlay rectangle and text on annotated frame (displayed frame)\n",
    "            cv2.rectangle(annotated, (0,0), (225,130), (245,117,16), -1)\n",
    "            cv2.putText(annotated, 'Push-ups', (15, 25),\n",
    "                        cv2.FONT_HERSHEY_SIMPLEX, 0.75, (0,0,0), 2)\n",
    "            cv2.putText(annotated, str(counter), (10, 65),\n",
    "                        cv2.FONT_HERSHEY_SIMPLEX, 2, (255,255,255), 2)\n",
    "            cv2.putText(annotated, f'Arm Angle: {angle_arm:.2f}' if angle_arm is not None else 'Arm Angle: --',\n",
    "                        (10, 95), cv2.FONT_HERSHEY_SIMPLEX, 0.6, (255,255,255), 2)\n",
    "            cv2.putText(annotated, f'Hip Angle: {angle_hip:.2f}' if angle_hip is not None else 'Hip Angle: --',\n",
    "                        (10, 120), cv2.FONT_HERSHEY_SIMPLEX, 0.6, (255,255,255), 2)\n",
    "            cv2.putText(annotated, f'Stage: {stage}', (10, 145),\n",
    "                        cv2.FONT_HERSHEY_SIMPLEX, 0.6, (255,255,255), 2)\n",
    "            if pipeline_attrs[\"incorrect_pose\"]:\n",
    "                cv2.putText(annotated, 'Incorrect Pose -Keep your body straight', (10, 170),\n",
    "                            cv2.FONT_HERSHEY_SIMPLEX, 0.7, (0,0,255), 2)\n",
    "\n",
    "            # Log all pipeline attributes into Phoenix\n",
    "            for k, v in pipeline_attrs.items():\n",
    "                span.set_attribute(f\"pipeline.{k}\", str(v))\n",
    "\n",
    "            span.set_status(Status(StatusCode.OK))\n",
    "            return annotated, counter, stage, pipeline_attrs\n",
    "\n",
    "        except Exception as e:\n",
    "            span.record_exception(e)\n",
    "            span.set_status(Status(StatusCode.ERROR, str(e)))\n",
    "            return frame, counter, stage, pipeline_attrs\n",
    "\n"
   ]
  },
  {
   "cell_type": "code",
   "execution_count": 123,
   "id": "c55096b2",
   "metadata": {},
   "outputs": [],
   "source": [
    "def run_experiment(model: BaseModel, video_source):\n",
    "    cap = cv2.VideoCapture(video_source)\n",
    "    model.load()\n",
    "\n",
    "    counter = 0\n",
    "    stage = None\n",
    "    frame_idx = 0\n",
    "\n",
    "    while cap.isOpened():\n",
    "        ret, frame = cap.read()\n",
    "        if not ret:\n",
    "            break\n",
    "\n",
    "        annotated, counter, stage, pipeline_attrs = process_frame(frame, model, counter, stage, frame_idx)\n",
    "        frame_idx += 1\n",
    "\n",
    "        cv2.imshow(\"Pushup Experiment\", annotated)\n",
    "        if cv2.waitKey(10) & 0xFF == ord(\"q\"):\n",
    "            break\n",
    "\n",
    "    cap.release()\n",
    "    cv2.destroyAllWindows()"
   ]
  },
  {
   "cell_type": "code",
   "execution_count": 124,
   "id": "2ca6dbf9",
   "metadata": {},
   "outputs": [],
   "source": [
    "def get_model(name):\n",
    "    if name == \"mediapipe\":\n",
    "        return MediaPipePushupModel()\n",
    "    else:\n",
    "        raise ValueError(f\"Unknown model: {name}\")"
   ]
  },
  {
   "cell_type": "code",
   "execution_count": 125,
   "id": "b994b23d",
   "metadata": {},
   "outputs": [
    {
     "name": "stderr",
     "output_type": "stream",
     "text": [
      "I0000 00:00:1758699637.184335 10425696 gl_context.cc:369] GL version: 2.1 (2.1 Metal - 89.4), renderer: Apple M1\n",
      "W0000 00:00:1758699637.307175 10446696 inference_feedback_manager.cc:114] Feedback manager requires a model with a single signature inference. Disabling support for feedback tensors.\n",
      "W0000 00:00:1758699637.329528 10446703 inference_feedback_manager.cc:114] Feedback manager requires a model with a single signature inference. Disabling support for feedback tensors.\n"
     ]
    },
    {
     "name": "stdout",
     "output_type": "stream",
     "text": [
      "Push-up Count: 1\n",
      "Push-up Count: 2\n",
      "Push-up Count: 3\n"
     ]
    }
   ],
   "source": [
    "if __name__ == \"__main__\":\n",
    "    model = get_model(\"mediapipe\")\n",
    "    run_experiment(model ,\"/Users/priyanka./Documents/agentic-security/Mediapipe/push-up_1.mp4\" )"
   ]
  }
 ],
 "metadata": {
  "kernelspec": {
   "display_name": "venv",
   "language": "python",
   "name": "python3"
  },
  "language_info": {
   "codemirror_mode": {
    "name": "ipython",
    "version": 3
   },
   "file_extension": ".py",
   "mimetype": "text/x-python",
   "name": "python",
   "nbconvert_exporter": "python",
   "pygments_lexer": "ipython3",
   "version": "3.11.13"
  }
 },
 "nbformat": 4,
 "nbformat_minor": 5
}
