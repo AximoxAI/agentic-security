{
 "cells": [
  {
   "cell_type": "code",
   "execution_count": 1,
   "id": "a8c417e5",
   "metadata": {},
   "outputs": [],
   "source": [
    "from openai import OpenAI\n",
    "import pandas as pd\n",
    "import json\n",
    "import duckdb #used for some of the SQL code\n",
    "from pydantic import BaseModel, Field \n",
    "from IPython.display import Markdown\n",
    "\n",
    "from helper import get_openai_api_key"
   ]
  },
  {
   "cell_type": "code",
   "execution_count": 2,
   "id": "6b25a558",
   "metadata": {},
   "outputs": [],
   "source": [
    "# initialize the OpenAI client\n",
    "openai_api_key = get_openai_api_key()\n",
    "client = OpenAI(api_key=openai_api_key)\n",
    "\n",
    "MODEL = \"gpt-4o-mini\""
   ]
  },
  {
   "cell_type": "markdown",
   "id": "9cb36814",
   "metadata": {},
   "source": [
    "#Tool 1: Dataset Lookup"
   ]
  },
  {
   "cell_type": "code",
   "execution_count": 3,
   "id": "6ebf311a",
   "metadata": {},
   "outputs": [],
   "source": [
    "# define the path to the transactional data\n",
    "TRANSACTION_DATA_FILE_PATH = 'Store_Sales_Price_Elasticity_Promotions_Data.parquet'"
   ]
  },
  {
   "cell_type": "code",
   "execution_count": 4,
   "id": "c4894745",
   "metadata": {},
   "outputs": [],
   "source": [
    "# prompt templete for sql generation\n",
    "\n",
    "SQL_GENERATION_PROMPT=\"\"\"\"\n",
    "Generate an SQL query based on a prompt. Do not reply with anything besides the SQL query.\n",
    "The prompt is : {prompt}\n",
    "\n",
    "The availabe columns are: {columns}\n",
    "The table name is: {table_name}\n",
    "\"\"\""
   ]
  },
  {
   "cell_type": "code",
   "execution_count": 5,
   "id": "54042c3c",
   "metadata": {},
   "outputs": [],
   "source": [
    "def generate_sql_query(prompt:str,columns:list,table_name:str)->str:\n",
    "    \"\"\"Generate an SQL query based on a prompt\"\"\"\n",
    "    formatted_prompt = SQL_GENERATION_PROMPT.format(prompt=prompt,columns=columns,table_name=table_name)\n",
    "\n",
    "    response = client.chat.completions.create(\n",
    "        model=MODEL,\n",
    "        messages=[{\"role\":\"user\",\"content\":formatted_prompt}],\n",
    "    )\n",
    "\n",
    "    return response.choices[0].message.content"
   ]
  },
  {
   "cell_type": "code",
   "execution_count": 6,
   "id": "f62f8575",
   "metadata": {},
   "outputs": [],
   "source": [
    "def lookup_sales_data(prompt:str)->str:\n",
    "    \"\"\"Implemantaion of sales data lookup from parquet file using SQL\"\"\"\n",
    "    try:\n",
    "        table_name=\"sales\" #table name\n",
    "\n",
    "        #read the parquet file into a duckdb table\n",
    "        df=pd.read_parquet(TRANSACTION_DATA_FILE_PATH)\n",
    "        duckdb.sql(f\"CREATE TABLE IF NOT EXISTS {table_name} AS SELECT * FROM df\")\n",
    "\n",
    "        #generate sql code\n",
    "        sql_query=generate_sql_query(prompt ,df.columns,table_name)\n",
    "\n",
    "        #clean the response to make sure it only includes the SQL code\n",
    "        sql_query = sql_query.strip()\n",
    "        sql_query=sql_query.replace(\"```sql\" , \"\").replace(\"```\" , \"\")\n",
    "\n",
    "        # execute the query\n",
    "        result = duckdb.sql(sql_query).df()\n",
    "        return result.to_string()\n",
    "    except Exception as e:\n",
    "        return f\"Error accessing data: {str(e)}\"\n",
    "    \n"
   ]
  },
  {
   "cell_type": "code",
   "execution_count": 7,
   "id": "2a12f145",
   "metadata": {},
   "outputs": [
    {
     "name": "stdout",
     "output_type": "stream",
     "text": [
      "    Store_Number  SKU_Coded  Product_Class_Code  Sold_Date  Qty_Sold  Total_Sale_Value  On_Promo\n",
      "0           1320    6173050               22875 2021-11-01         1          4.990000         0\n",
      "1           1320    6174250               22875 2021-11-01         1          0.890000         0\n",
      "2           1320    6176200               22975 2021-11-01         2         99.980003         0\n",
      "3           1320    6176800               22800 2021-11-01         1         14.970000         0\n",
      "4           1320    6177250               22975 2021-11-01         1          6.890000         0\n",
      "5           1320    6177300               22800 2021-11-01         1          9.990000         0\n",
      "6           1320    6177350               22800 2021-11-01         2         16.980000         0\n",
      "7           1320    6177700               22875 2021-11-01         1          3.190000         0\n",
      "8           1320    6178000               22875 2021-11-01         2          6.380000         0\n",
      "9           1320    6178250               22800 2021-11-01         1         16.590000         0\n",
      "10          1320    6179250               24400 2021-11-01         1         14.990000         0\n",
      "11          1320    6179300               22800 2021-11-01         2          9.980000         0\n",
      "12          1320    6179400               24400 2021-11-01         2         29.980000         0\n",
      "13          1320    6179450               24400 2021-11-01         1         14.990000         0\n",
      "14          1320    6179500               24400 2021-11-01         1         14.990000         0\n",
      "15          1320    6179750               22800 2021-11-01         2         39.980000         0\n",
      "16          1320    6180550               22975 2021-11-01         1         15.990000         0\n",
      "17          1320    6182050               22975 2021-11-01         1          7.990000         0\n",
      "18          1320    6183750               22850 2021-11-01         3         38.970001         0\n",
      "19          1320    6184100               22975 2021-11-01         3         59.970001         0\n",
      "20          1320    6188550               22950 2021-11-01         2         15.980000         0\n",
      "21          1320    6190050               24425 2021-11-01         5         19.950001         0\n",
      "22          1320    6190150               24425 2021-11-01         1          8.990000         0\n",
      "23          1320    6190200               24425 2021-11-01         1          8.990000         0\n",
      "24          1320    6190250               24425 2021-11-01         1          7.990000         0\n",
      "25          1320    6190350               22950 2021-11-01         1          6.990000         0\n",
      "26          1320    6190400               22950 2021-11-01         1          6.990000         0\n",
      "27          1320    6193750               22875 2021-11-01         1          6.990000         0\n",
      "28          1320    6195350               24375 2021-11-01         1         16.990000         0\n",
      "29          1320    6195800               22850 2021-11-01         3         25.719999         1\n"
     ]
    }
   ],
   "source": [
    "#testing first tool\n",
    "example_data = lookup_sales_data(\"Show me all the sales for store 1320 on November 1st, 2021\")\n",
    "\n",
    "print(example_data)"
   ]
  },
  {
   "cell_type": "markdown",
   "id": "e7824b04",
   "metadata": {},
   "source": [
    "#Tool 2 : Data analysis "
   ]
  },
  {
   "cell_type": "code",
   "execution_count": 8,
   "id": "1a97fa7e",
   "metadata": {},
   "outputs": [],
   "source": [
    "DATA_ANALYSIS_PROMPT = \"\"\"\n",
    "Analyse the following data:{data}\n",
    "Your job is to answer the following question:{prompt}\"\"\""
   ]
  },
  {
   "cell_type": "code",
   "execution_count": 9,
   "id": "6e440bc0",
   "metadata": {},
   "outputs": [],
   "source": [
    "def analyze_sales_data(prompt:str,data:str)->str:\n",
    "    \"\"\"Implementation of AI-powered sales data analysis\"\"\"\n",
    "    formatted_prompt = DATA_ANALYSIS_PROMPT.format(data=data,prompt=prompt)\n",
    "\n",
    "    response = client.chat.completions.create(\n",
    "        model=MODEL,\n",
    "        messages=[{\"role\":\"user\", \"content\":formatted_prompt}]\n",
    "    )\n",
    "\n",
    "    analysis = response.choices[0].message.content\n",
    "    return analysis if analysis else \"No analysis could be generated\""
   ]
  },
  {
   "cell_type": "code",
   "execution_count": 10,
   "id": "198117f1",
   "metadata": {},
   "outputs": [
    {
     "name": "stdout",
     "output_type": "stream",
     "text": [
      "Analyzing the provided data reveals several trends and insights regarding sales at Store Number 1320 on November 1, 2021. Here are the key trends observed:\n",
      "\n",
      "1. **Volume of Sales**: The data indicates a variety of quantities sold across different products, ranging from 1 to 5 per SKU (Stock Keeping Unit). The total quantity sold includes both single and multi-unit sales, with multiple products being sold in larger quantities, such as items sold in quantities of 3 (at SKUs like 6183750 and 6184100).\n",
      "\n",
      "2. **Sales Value Diversity**: There is a wide range of total sale values for different SKUs, indicating that the pricing varies significantly across different products. The cheapest item was sold for $0.89 (SKU 6174250), while some products sold for much higher amounts (e.g., SKU 6176200 for $99.98). This suggests a diverse product mix, likely catering to different customer segments.\n",
      "\n",
      "3. **Promotional Impact**: Most products listed in the dataset were not on promotion (On_Promo = 0); however, there is at least one item (SKU 6195800) that was on promotion. It sold 3 units for a total value of $25.72. The impact of promotions would typically result in increased sales volumes, suggesting that there could be an opportunity to leverage more promotional strategies to boost sales further.\n",
      "\n",
      "4. **Product Class Representation**: Various product class codes are present (for example, 22800, 22875, 22975, etc.), indicating a potential categorization of products. The data can be analyzed further to determine which product classes are selling better and which are underperforming.\n",
      "\n",
      "5. **Recurring Items**: Some SKUs appear multiple times within the dataset (like those belonging to product classes 22800 and 22975), which may indicate that these products have consistent demand, or they are popular among customers. \n",
      "\n",
      "6. **Potential for Inventory Management**: Given the various quantities sold for each product, store management can assess inventory levels for different SKUs to avoid stock-outs or overstock situations in the future. Items with consistently high sales may need to be replenished more frequently.\n",
      "\n",
      "7. **Sales Reporting**: The sale date being uniform (2021-11-01) suggests this is a data snapshot of just one day of sales. Analyzing trends over several days or weeks would provide more robust insights into customer purchasing behaviors, patterns, seasonality, and other dynamics affecting sales.\n",
      "\n",
      "8. **Customer Segmentation**: The various price points and quantities sold can inform customer segmentation strategies—higher-priced items might attract different clients compared to lower-priced alternatives, and analyzing cluster buying behavior can provide insights for targeted promotions or marketing.\n",
      "\n",
      "### Recommendations:\n",
      "- **Further Analysis**: Extend the analysis over multiple days and different promotional periods to identify trends more clearly.\n",
      "- **Promotional Strategies**: Explore the possibility of implementing more promotions based on the single promotional item and monitor its impact on sales.\n",
      "- **Product Performance Review**: Identify underperforming SKUs and analyze if adjustments in marketing, packaging, or pricing could improve sales.\n",
      "- **Stock Optimization**: Use sales data to fine-tune inventory levels dynamically based on sales patterns to enhance customer satisfaction and reduce excess inventory costs.\n",
      "\n",
      "Overall, the data presents a snapshot which can be enriched with additional time series data for deeper analysis and insights.\n"
     ]
    }
   ],
   "source": [
    "print(analyze_sales_data(prompt = \"What trends do you see in this data\",\n",
    "                         data=example_data))"
   ]
  },
  {
   "cell_type": "markdown",
   "id": "d9f1bba6",
   "metadata": {},
   "source": [
    "#Tool 3 : Data visualization"
   ]
  },
  {
   "cell_type": "code",
   "execution_count": 13,
   "id": "3acf694b",
   "metadata": {},
   "outputs": [],
   "source": [
    "CHART_CONFIGURATION_PROMPT = \"\"\"\n",
    "Generate a chart configuration based on this data:{data}\n",
    "The goal is to show:{visualization_goal}\n",
    "\"\"\""
   ]
  },
  {
   "cell_type": "code",
   "execution_count": 14,
   "id": "8ef49c11",
   "metadata": {},
   "outputs": [],
   "source": [
    "class VisualizationConfig(BaseModel):\n",
    "    chart_type : str = Field (...,description=\"Type of chart to generate\")\n",
    "    x_axis: str = Field(..., description=\"Name of the x-axis column\")\n",
    "    y_axis: str = Field(..., description=\"Name of the y-axis column\")\n",
    "    title: str = Field(..., description=\"Title of the chart\")"
   ]
  },
  {
   "cell_type": "code",
   "execution_count": 16,
   "id": "de16d9b8",
   "metadata": {},
   "outputs": [],
   "source": [
    "def extract_chart_config(data:str, visualization_goal:str)-> str:\n",
    "    \"\"\"Generate chart visualization configuration\n",
    "    \n",
    "    Args:\n",
    "        data:String containing the data to visualize\n",
    "        visualization_goal:Description of what the visualization should show\n",
    "    Returns:\n",
    "        Dictionary containing line chart configuaration\n",
    "    \"\"\"\n",
    "    formatted_prompt=CHART_CONFIGURATION_PROMPT.format(data=data,visualization_goal=visualization_goal)\n",
    "\n",
    "    response = client.beta.chat.completions.parse(\n",
    "        model=MODEL,\n",
    "        messages=[{\"role\":\"user\" , \"content\":formatted_prompt}],\n",
    "        response_format=VisualizationConfig\n",
    "    )       \n",
    "    try:\n",
    "        #Extract axis and title info from response\n",
    "        content = response.choices[0].message.content\n",
    "\n",
    "        return{\n",
    "            \"chart_type\":content.chart_type,\n",
    "            \"x_axis\": content.x_axis,\n",
    "            \"y_axis\": content.y_axis,\n",
    "            \"title\": content.title,\n",
    "            \"data\": data\n",
    "        }\n",
    "    except Exception:\n",
    "        return{\n",
    "            \"chart_type\": \"line\", \n",
    "            \"x_axis\": \"date\",\n",
    "            \"y_axis\": \"value\",\n",
    "            \"title\": visualization_goal,\n",
    "            \"data\": data\n",
    "        }\n"
   ]
  },
  {
   "cell_type": "code",
   "execution_count": 17,
   "id": "e66b2ffc",
   "metadata": {},
   "outputs": [],
   "source": [
    "CREATE_CHART_PROMPT=\"\"\"\n",
    "Write python code to create a chart based on the following configuration.\n",
    "Only return the code, no other text.\n",
    "config:{config}\n",
    "\"\"\""
   ]
  },
  {
   "cell_type": "code",
   "execution_count": 18,
   "id": "852ea4e0",
   "metadata": {},
   "outputs": [],
   "source": [
    "def create_chart(config: dict)-> str:\n",
    "    \"\"\"Create a chart based on the configuration\"\"\"\n",
    "    formatted_prompt = CREATE_CHART_PROMPT.format(config=config)\n",
    "\n",
    "    response = client.chat.completions.create(\n",
    "        model=MODEL,\n",
    "        messages=[{\"role\":\"user\" , \"content\":formatted_prompt}],\n",
    "    )\n",
    "\n",
    "    code = response.choices[0].message.content\n",
    "    code = code.replace(\"```python\",\"\").replace(\"```\",\"\")\n",
    "    code = code.strip()\n",
    "\n",
    "    return code\n"
   ]
  },
  {
   "cell_type": "code",
   "execution_count": 19,
   "id": "6dd9ea83",
   "metadata": {},
   "outputs": [],
   "source": [
    "def generate_visualization(data:str,visualization_goal:str)->str:\n",
    "    \"\"\"Generate a visualization based on the data and goal\"\"\"\n",
    "    config = extract_chart_config(data,visualization_goal)\n",
    "    code = create_chart(config)\n",
    "    return code\n"
   ]
  },
  {
   "cell_type": "code",
   "execution_count": 22,
   "id": "262e0c32",
   "metadata": {},
   "outputs": [
    {
     "name": "stdout",
     "output_type": "stream",
     "text": [
      "import pandas as pd\n",
      "import matplotlib.pyplot as plt\n",
      "from io import StringIO\n",
      "\n",
      "data = \"\"\"Store_Number,SKU_Coded,Product_Class_Code,Sold_Date,Qty_Sold,Total_Sale_Value,On_Promo\n",
      "1320,6173050,22875,2021-11-01,1,4.990000,0\n",
      "1320,6174250,22875,2021-11-01,1,0.890000,0\n",
      "1320,6176200,22975,2021-11-01,2,99.980003,0\n",
      "1320,6176800,22800,2021-11-01,1,14.970000,0\n",
      "1320,6177250,22975,2021-11-01,1,6.890000,0\n",
      "1320,6177300,22800,2021-11-01,1,9.990000,0\n",
      "1320,6177350,22800,2021-11-01,2,16.980000,0\n",
      "1320,6177700,22875,2021-11-01,1,3.190000,0\n",
      "1320,6178000,22875,2021-11-01,2,6.380000,0\n",
      "1320,6178250,22800,2021-11-01,1,16.590000,0\n",
      "1320,6179250,24400,2021-11-01,1,14.990000,0\n",
      "1320,6179300,22800,2021-11-01,2,9.980000,0\n",
      "1320,6179400,24400,2021-11-01,2,29.980000,0\n",
      "1320,6179450,24400,2021-11-01,1,14.990000,0\n",
      "1320,6179500,24400,2021-11-01,1,14.990000,0\n",
      "1320,6179750,22800,2021-11-01,2,39.980000,0\n",
      "1320,6180550,22975,2021-11-01,1,15.990000,0\n",
      "1320,6182050,22975,2021-11-01,1,7.990000,0\n",
      "1320,6183750,22850,2021-11-01,3,38.970001,0\n",
      "1320,6184100,22975,2021-11-01,3,59.970001,0\n",
      "1320,6188550,22950,2021-11-01,2,15.980000,0\n",
      "1320,6190050,24425,2021-11-01,5,19.950001,0\n",
      "1320,6190150,24425,2021-11-01,1,8.990000,0\n",
      "1320,6190200,24425,2021-11-01,1,8.990000,0\n",
      "1320,6190250,24425,2021-11-01,1,7.990000,0\n",
      "1320,6190350,22950,2021-11-01,1,6.990000,0\n",
      "1320,6190400,22950,2021-11-01,1,6.990000,0\n",
      "1320,6193750,22875,2021-11-01,1,6.990000,0\n",
      "1320,6195350,24375,2021-11-01,1,16.990000,0\n",
      "1320,6195800,22850,2021-11-01,3,25.719999,1\"\"\"\n",
      "\n",
      "df = pd.read_csv(StringIO(data), parse_dates=['Sold_Date'])\n",
      "\n",
      "# Grouping by Sold_Date and summing the Total_Sale_Value\n",
      "sales_by_date = df.groupby('Sold_Date')['Total_Sale_Value'].sum()\n",
      "\n",
      "# Creating the line chart\n",
      "plt.figure(figsize=(10, 5))\n",
      "plt.plot(sales_by_date.index, sales_by_date.values, marker='o')\n",
      "plt.title('A bar chart of sales by product SKU')\n",
      "plt.xlabel('Date')\n",
      "plt.ylabel('Total Sale Value')\n",
      "plt.xticks(rotation=45)\n",
      "plt.grid()\n",
      "plt.tight_layout()\n",
      "plt.show()\n"
     ]
    }
   ],
   "source": [
    "code = generate_visualization(example_data,\"A bar chart of sales by product SKU. Put the product SKU on the x-axis and the sales on the y-axis.\")\n",
    "print(code)"
   ]
  },
  {
   "cell_type": "code",
   "execution_count": null,
   "id": "0c1a4c0c",
   "metadata": {},
   "outputs": [
    {
     "data": {
      "image/png": "[encoded data removed]",
      "text/plain": [
       "<Figure size 1000x500 with 1 Axes>"
      ]
     },
     "metadata": {},
     "output_type": "display_data"
    }
   ],
   "source": [
    "exec(code)\n",
    "# for safety we should wrap the code generated by llm within an enclosed environment "
   ]
  },
  {
   "cell_type": "markdown",
   "id": "07fcadac",
   "metadata": {},
   "source": [
    "# Defining the Router"
   ]
  },
  {
   "cell_type": "code",
   "execution_count": 24,
   "id": "e80dd118",
   "metadata": {},
   "outputs": [],
   "source": [
    "#Tool Schema\n",
    "tools =[{\n",
    "    \"type\":\"function\",\n",
    "    \"function\":{\n",
    "        \"name\":\"lookup_sales_data\",\n",
    "        \"description\":\"Look up data from Store Scales Price Elasticity Promotions dataset\",\n",
    "        \"parameters\":{\n",
    "            \"type\":\"object\",\n",
    "            \"properties\":{\n",
    "                \"prompt\":{\"type\":\"string\" , \"description\":\"The unchanged prompt that the user provided.\"}  \n",
    "            },\n",
    "            \"required\":[\"prompt\"]\n",
    "        }\n",
    "    }\n",
    "},\n",
    "{\n",
    "    \"type\": \"function\",\n",
    "    \"function\": {\n",
    "        \"name\": \"analyze_sales_data\", \n",
    "        \"description\": \"Analyze sales data to extract insights\",\n",
    "        \"parameters\": {\n",
    "            \"type\": \"object\",\n",
    "            \"properties\": {\n",
    "                \"data\": {\"type\": \"string\", \"description\": \"The lookup_sales_data tool's output.\"},\n",
    "                \"prompt\": {\"type\": \"string\", \"description\": \"The unchanged prompt that the user provided.\"}\n",
    "            },\n",
    "            \"required\": [\"data\", \"prompt\"]\n",
    "        }\n",
    "    }\n",
    "\n",
    "},\n",
    "{\n",
    "    \"type\": \"function\",\n",
    "    \"function\": {\n",
    "        \"name\": \"generate_visualization\",\n",
    "        \"description\": \"Generate Python code to create data visualizations\",\n",
    "        \"parameters\": {\n",
    "            \"type\": \"object\", \n",
    "            \"properties\": {\n",
    "                \"data\": {\"type\": \"string\", \"description\": \"The lookup_sales_data tool's output.\"},\n",
    "                \"visualization_goal\": {\"type\": \"string\", \"description\": \"The goal of the visualization.\"}\n",
    "            },\n",
    "            \"required\": [\"data\", \"visualization_goal\"]\n",
    "        }\n",
    "    }\n",
    "}]\n",
    "\n",
    "# Dictionary mapping function names to their implementations\n",
    "tool_implementations = {\n",
    "    \"lookup_sales_data\": lookup_sales_data,\n",
    "    \"analyze_sales_data\": analyze_sales_data, \n",
    "    \"generate_visualization\": generate_visualization\n",
    "}"
   ]
  },
  {
   "cell_type": "markdown",
   "id": "4da259d7",
   "metadata": {},
   "source": [
    "#Router Logic"
   ]
  },
  {
   "cell_type": "code",
   "execution_count": 25,
   "id": "9644f73e",
   "metadata": {},
   "outputs": [],
   "source": [
    "def handle_tool_calls(tool_calls,messages):\n",
    "    \n",
    "    for tool_call in tool_calls:\n",
    "        function = tool_implementations[tool_call.function.name]\n",
    "        function_args = json.loads(tool_call.function.arguments)\n",
    "        result = function(**function_args)\n",
    "        messages.append({\"role\":\"tool\" , \"content\": result,\"tool_call_id\":tool_call.id})\n",
    "\n",
    "    return messages\n"
   ]
  },
  {
   "cell_type": "code",
   "execution_count": 26,
   "id": "7bd12166",
   "metadata": {},
   "outputs": [],
   "source": [
    "SYSTEM_PROMPT = \"\"\"\n",
    "You are a helpful assistant that can answer questions about the Store Sales Price Elasticity Promotions dataset.\n",
    "\"\"\""
   ]
  },
  {
   "cell_type": "code",
   "execution_count": 27,
   "id": "3f03d5e7",
   "metadata": {},
   "outputs": [],
   "source": [
    "def run_agent(messages):\n",
    "    print(\"Running agent with messages:\",messages)\n",
    "\n",
    "    if isinstance(messages,str):\n",
    "        messages=[{\"role\":\"user\" , \"content\":messages}]\n",
    "\n",
    "    if not any(\n",
    "            isinstance(message , dict) and message.get(\"role\") ==\"system\" for message in messages\n",
    "        ):\n",
    "            system_prompt = {\"role\":\"system\",\"content\": SYSTEM_PROMPT}\n",
    "            messages.append(system_prompt)\n",
    "\n",
    "    while True:\n",
    "        print(\"Making router call to OpenAI\")\n",
    "        response=client.chat.completions.create(\n",
    "            model=MODEL,\n",
    "            messages=messages,\n",
    "            tools=tools,\n",
    "        )\n",
    "        messages.append(response.choices[0].message)\n",
    "        tool_calls= response.choices[0].message.tool_calls\n",
    "        print(\"Received response with tool calls:\", bool(tool_calls))\n",
    "\n",
    "        # if the model decides to call function(s), call handle_tool_calls\n",
    "        if tool_calls:\n",
    "            print(\"Processing tool calls\")\n",
    "            messages = handle_tool_calls(tool_calls, messages)\n",
    "        else:\n",
    "            print(\"No tool calls, returning final response\")\n",
    "            return response.choices[0].message.content\n",
    "        \n",
    "                "
   ]
  },
  {
   "cell_type": "code",
   "execution_count": 28,
   "id": "33f5f9b0",
   "metadata": {},
   "outputs": [
    {
     "name": "stdout",
     "output_type": "stream",
     "text": [
      "Running agent with messages: Show me the code for graph of sales by store in Nov 2021, and tell me what trends you see.\n",
      "Making router call to OpenAI\n",
      "Received response with tool calls: True\n",
      "Processing tool calls\n",
      "Making router call to OpenAI\n",
      "Received response with tool calls: True\n",
      "Processing tool calls\n",
      "Making router call to OpenAI\n",
      "Received response with tool calls: False\n",
      "No tool calls, returning final response\n"
     ]
    }
   ],
   "source": [
    "result = run_agent('Show me the code for graph of sales by store in Nov 2021, and tell me what trends you see.')"
   ]
  },
  {
   "cell_type": "code",
   "execution_count": 29,
   "id": "dee09d6f",
   "metadata": {},
   "outputs": [
    {
     "name": "stdout",
     "output_type": "stream",
     "text": [
      "Here is the Python code to create a line graph of sales by store for November 2021:\n",
      "\n",
      "```python\n",
      "import pandas as pd\n",
      "import matplotlib.pyplot as plt\n",
      "from io import StringIO\n",
      "\n",
      "# Configuration\n",
      "config = {\n",
      "    'chart_type': 'line',\n",
      "    'x_axis': 'date',\n",
      "    'y_axis': 'value',\n",
      "    'title': 'Create a graph of sales by store for November 2021.',\n",
      "    'data': 'Store_Number  Total_Qty_Sold  Total_Sale_Value\\n0            880          1525.0      17753.769956\\n1           4180           913.0      10213.819920\\n2            550           764.0       9554.049975\\n3           1650          1770.0      23186.909958\\n4           2420          1370.0      15234.709888\\n5            660          1208.0      13041.239901\\n6            770           973.0       9181.769959\\n7           2640          1005.0      10891.639931\\n8           2090          1080.0      11617.179888\\n9           4840          1612.0      19127.169971\\n10          3080          1454.0      18044.450005\\n11          1320          1701.0      19553.789981\\n12          1540          1801.0      21207.689942\\n13          4070           932.0       9161.409921\\n14          4730           819.0      10571.779962\\n15          1210          1821.0      21021.669984\\n16          2750          1462.0      16310.409961\\n17          1760          1207.0      14598.209948\\n18          1980           893.0       9084.959929\\n19           330          1105.0      12569.599911\\n20          2200          1513.0      16854.439921\\n21          2310          1594.0      16611.539945\\n22          1870          1648.0      17091.849894\\n23          3630          1311.0      14202.299958\\n24          1100          1712.0      19298.679917\\n25          3300          1859.0      23730.719905\\n26          3190          1003.0      11934.999961\\n27           990          1280.0      15101.459945\\n28          3410          1345.0      15982.159946\\n29          2970          2312.0      31000.569969\\n30          2530           890.0      11139.740003\\n31          3740           949.0      10719.049952\\n32          4400           225.0       4390.689987'\n",
      "}\n",
      "\n",
      "# Prepare the data\n",
      "data = pd.read_csv(StringIO(config['data']), sep='\\s+')\n",
      "\n",
      "# Create the line chart\n",
      "plt.figure(figsize=(10, 6))\n",
      "plt.plot(data['Store_Number'], data['Total_Sale_Value'], marker='o')\n",
      "plt.title(config['title'])\n",
      "plt.xlabel('Store Number')\n",
      "plt.ylabel('Total Sale Value')\n",
      "plt.grid()\n",
      "plt.xticks(rotation=45)\n",
      "plt.tight_layout()\n",
      "plt.show()\n",
      "```\n",
      "\n",
      "### Trends Observed:\n",
      "1. **High Variation in Sales**: There is a notable variation in sales values across different stores. Some stores, like Store 2970, show significantly higher sales compared to others. This suggests that certain stores may be performing much better, possibly due to location, customer base, or product offerings.\n",
      "\n",
      "2. **Potential Outliers**: Store 2970 stands out as particularly high in sales at over $31,000. This could indicate that this store has a particularly appealing product mix or customer engagement strategy.\n",
      "\n",
      "3. **Moderate Performers**: Many stores hover around similar sales figures, such as Stores 1100, 2200, and 2310, which indicates a more consistent performance among them.\n",
      "\n",
      "4. **Lower Performers**: Stores with significantly lower sales ($4,390 for Store 4400) may need to evaluate their sales strategies or often require additional marketing efforts to boost their performance. \n",
      "\n",
      "These insights can help guide future business decisions, including targeted promotions or stock adjustments based on performance.\n"
     ]
    }
   ],
   "source": [
    "print(result)"
   ]
  }
 ],
 "metadata": {
  "kernelspec": {
   "display_name": "Python 3",
   "language": "python",
   "name": "python3"
  },
  "language_info": {
   "codemirror_mode": {
    "name": "ipython",
    "version": 3
   },
   "file_extension": ".py",
   "mimetype": "text/x-python",
   "name": "python",
   "nbconvert_exporter": "python",
   "pygments_lexer": "ipython3",
   "version": "3.13.2"
  }
 },
 "nbformat": 4,
 "nbformat_minor": 5
}
