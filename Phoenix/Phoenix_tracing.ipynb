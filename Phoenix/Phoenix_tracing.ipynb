{
 "cells": [
  {
   "cell_type": "code",
   "execution_count": 1,
   "id": "a8c417e5",
   "metadata": {},
   "outputs": [
    {
     "name": "stderr",
     "output_type": "stream",
     "text": [
      "/Users/priyanka./Documents/ai-agents/venv/lib/python3.11/site-packages/tqdm/auto.py:21: TqdmWarning: IProgress not found. Please update jupyter and ipywidgets. See https://ipywidgets.readthedocs.io/en/stable/user_install.html\n",
      "  from .autonotebook import tqdm as notebook_tqdm\n"
     ]
    }
   ],
   "source": [
    "from openai import OpenAI\n",
    "import pandas as pd\n",
    "import json\n",
    "import duckdb #used for some of the SQL code\n",
    "from pydantic import BaseModel, Field \n",
    "from IPython.display import Markdown\n",
    "\n",
    "from helper import get_openai_api_key, get_phoenix_endpoint, setup_phoenix"
   ]
  },
  {
   "cell_type": "code",
   "execution_count": 2,
   "id": "9b563c8a",
   "metadata": {},
   "outputs": [],
   "source": [
    "import phoenix as px\n",
    "import os\n",
    "from phoenix.otel import register \n",
    "from openinference.semconv.trace import SpanAttributes \n",
    "from openinference.instrumentation.openai import OpenAIInstrumentor\n",
    "from opentelemetry.trace import Status , StatusCode\n",
    "from openinference.instrumentation import TracerProvider"
   ]
  },
  {
   "cell_type": "code",
   "execution_count": 3,
   "id": "6b25a558",
   "metadata": {},
   "outputs": [],
   "source": [
    "# initialize the OpenAI client\n",
    "openai_api_key = get_openai_api_key()\n",
    "client = OpenAI(api_key=openai_api_key)\n",
    "\n",
    "MODEL = \"gpt-4o-mini\""
   ]
  },
  {
   "cell_type": "markdown",
   "id": "e5e5366c",
   "metadata": {},
   "source": [
    "Phoenix"
   ]
  },
  {
   "cell_type": "code",
   "execution_count": null,
   "id": "484d0840",
   "metadata": {},
   "outputs": [
    {
     "name": "stderr",
     "output_type": "stream",
     "text": [
      "/opt/homebrew/Cellar/python@3.11/3.11.13/Frameworks/Python.framework/Versions/3.11/lib/python3.11/contextlib.py:144: SAWarning: Skipped unsupported reflection of expression-based index ix_cumulative_llm_token_count_total\n",
      "  next(self.gen)\n",
      "/opt/homebrew/Cellar/python@3.11/3.11.13/Frameworks/Python.framework/Versions/3.11/lib/python3.11/contextlib.py:144: SAWarning: Skipped unsupported reflection of expression-based index ix_latency\n",
      "  next(self.gen)\n"
     ]
    },
    {
     "name": "stdout",
     "output_type": "stream",
     "text": [
      "🌍 To view the Phoenix app in your browser, visit http://localhost:6006/\n",
      "📖 For more information on how to use Phoenix, check out https://docs.arize.com/phoenix\n",
      "Phoenix is running at: http://localhost:6006/\n"
     ]
    },
    {
     "name": "stderr",
     "output_type": "stream",
     "text": [
      "Unknown dataset: RGF0YXNldDox\n",
      "\n",
      "GraphQL request:4:3\n",
      "3 | ) {\n",
      "4 |   dataset: node(id: $id) {\n",
      "  |   ^\n",
      "5 |     __typename\n",
      "Traceback (most recent call last):\n",
      "  File \"/Users/priyanka./Documents/ai-agents/venv/lib/python3.11/site-packages/graphql/execution/execute.py\", line 530, in await_result\n",
      "    return_type, field_nodes, info, path, await result\n",
      "                                          ^^^^^^^^^^^^\n",
      "  File \"/Users/priyanka./Documents/ai-agents/venv/lib/python3.11/site-packages/strawberry/schema/schema_converter.py\", line 788, in _async_resolver\n",
      "    return await await_maybe(\n",
      "           ^^^^^^^^^^^^^^^^^^\n",
      "  File \"/Users/priyanka./Documents/ai-agents/venv/lib/python3.11/site-packages/strawberry/utils/await_maybe.py\", line 13, in await_maybe\n",
      "    return await value\n",
      "           ^^^^^^^^^^^\n",
      "  File \"/Users/priyanka./Documents/ai-agents/venv/lib/python3.11/site-packages/phoenix/server/api/queries.py\", line 508, in node\n",
      "    raise NotFound(f\"Unknown dataset: {id}\")\n",
      "phoenix.server.api.exceptions.NotFound: Unknown dataset: RGF0YXNldDox\n",
      "Unknown dataset: RGF0YXNldDox\n",
      "\n",
      "GraphQL request:4:3\n",
      "3 | ) {\n",
      "4 |   dataset: node(id: $id) {\n",
      "  |   ^\n",
      "5 |     __typename\n",
      "Traceback (most recent call last):\n",
      "  File \"/Users/priyanka./Documents/ai-agents/venv/lib/python3.11/site-packages/graphql/execution/execute.py\", line 530, in await_result\n",
      "    return_type, field_nodes, info, path, await result\n",
      "                                          ^^^^^^^^^^^^\n",
      "  File \"/Users/priyanka./Documents/ai-agents/venv/lib/python3.11/site-packages/strawberry/schema/schema_converter.py\", line 788, in _async_resolver\n",
      "    return await await_maybe(\n",
      "           ^^^^^^^^^^^^^^^^^^\n",
      "  File \"/Users/priyanka./Documents/ai-agents/venv/lib/python3.11/site-packages/strawberry/utils/await_maybe.py\", line 13, in await_maybe\n",
      "    return await value\n",
      "           ^^^^^^^^^^^\n",
      "  File \"/Users/priyanka./Documents/ai-agents/venv/lib/python3.11/site-packages/phoenix/server/api/queries.py\", line 508, in node\n",
      "    raise NotFound(f\"Unknown dataset: {id}\")\n",
      "phoenix.server.api.exceptions.NotFound: Unknown dataset: RGF0YXNldDox\n",
      "Unknown dataset: RGF0YXNldDox\n",
      "\n",
      "GraphQL request:4:3\n",
      "3 | ) {\n",
      "4 |   dataset: node(id: $id) {\n",
      "  |   ^\n",
      "5 |     __typename\n",
      "Traceback (most recent call last):\n",
      "  File \"/Users/priyanka./Documents/ai-agents/venv/lib/python3.11/site-packages/graphql/execution/execute.py\", line 530, in await_result\n",
      "    return_type, field_nodes, info, path, await result\n",
      "                                          ^^^^^^^^^^^^\n",
      "  File \"/Users/priyanka./Documents/ai-agents/venv/lib/python3.11/site-packages/strawberry/schema/schema_converter.py\", line 788, in _async_resolver\n",
      "    return await await_maybe(\n",
      "           ^^^^^^^^^^^^^^^^^^\n",
      "  File \"/Users/priyanka./Documents/ai-agents/venv/lib/python3.11/site-packages/strawberry/utils/await_maybe.py\", line 13, in await_maybe\n",
      "    return await value\n",
      "           ^^^^^^^^^^^\n",
      "  File \"/Users/priyanka./Documents/ai-agents/venv/lib/python3.11/site-packages/phoenix/server/api/queries.py\", line 508, in node\n",
      "    raise NotFound(f\"Unknown dataset: {id}\")\n",
      "phoenix.server.api.exceptions.NotFound: Unknown dataset: RGF0YXNldDox\n",
      "Unknown dataset: RGF0YXNldDox\n",
      "\n",
      "GraphQL request:4:3\n",
      "3 | ) {\n",
      "4 |   dataset: node(id: $id) {\n",
      "  |   ^\n",
      "5 |     __typename\n",
      "Traceback (most recent call last):\n",
      "  File \"/Users/priyanka./Documents/ai-agents/venv/lib/python3.11/site-packages/graphql/execution/execute.py\", line 530, in await_result\n",
      "    return_type, field_nodes, info, path, await result\n",
      "                                          ^^^^^^^^^^^^\n",
      "  File \"/Users/priyanka./Documents/ai-agents/venv/lib/python3.11/site-packages/strawberry/schema/schema_converter.py\", line 788, in _async_resolver\n",
      "    return await await_maybe(\n",
      "           ^^^^^^^^^^^^^^^^^^\n",
      "  File \"/Users/priyanka./Documents/ai-agents/venv/lib/python3.11/site-packages/strawberry/utils/await_maybe.py\", line 13, in await_maybe\n",
      "    return await value\n",
      "           ^^^^^^^^^^^\n",
      "  File \"/Users/priyanka./Documents/ai-agents/venv/lib/python3.11/site-packages/phoenix/server/api/queries.py\", line 508, in node\n",
      "    raise NotFound(f\"Unknown dataset: {id}\")\n",
      "phoenix.server.api.exceptions.NotFound: Unknown dataset: RGF0YXNldDox\n",
      "Unknown dataset: RGF0YXNldDox\n",
      "\n",
      "GraphQL request:4:3\n",
      "3 | ) {\n",
      "4 |   dataset: node(id: $id) {\n",
      "  |   ^\n",
      "5 |     __typename\n",
      "Traceback (most recent call last):\n",
      "  File \"/Users/priyanka./Documents/ai-agents/venv/lib/python3.11/site-packages/graphql/execution/execute.py\", line 530, in await_result\n",
      "    return_type, field_nodes, info, path, await result\n",
      "                                          ^^^^^^^^^^^^\n",
      "  File \"/Users/priyanka./Documents/ai-agents/venv/lib/python3.11/site-packages/strawberry/schema/schema_converter.py\", line 788, in _async_resolver\n",
      "    return await await_maybe(\n",
      "           ^^^^^^^^^^^^^^^^^^\n",
      "  File \"/Users/priyanka./Documents/ai-agents/venv/lib/python3.11/site-packages/strawberry/utils/await_maybe.py\", line 13, in await_maybe\n",
      "    return await value\n",
      "           ^^^^^^^^^^^\n",
      "  File \"/Users/priyanka./Documents/ai-agents/venv/lib/python3.11/site-packages/phoenix/server/api/queries.py\", line 508, in node\n",
      "    raise NotFound(f\"Unknown dataset: {id}\")\n",
      "phoenix.server.api.exceptions.NotFound: Unknown dataset: RGF0YXNldDox\n",
      "Unknown dataset: RGF0YXNldDox\n",
      "\n",
      "GraphQL request:4:3\n",
      "3 | ) {\n",
      "4 |   dataset: node(id: $id) {\n",
      "  |   ^\n",
      "5 |     __typename\n",
      "Traceback (most recent call last):\n",
      "  File \"/Users/priyanka./Documents/ai-agents/venv/lib/python3.11/site-packages/graphql/execution/execute.py\", line 530, in await_result\n",
      "    return_type, field_nodes, info, path, await result\n",
      "                                          ^^^^^^^^^^^^\n",
      "  File \"/Users/priyanka./Documents/ai-agents/venv/lib/python3.11/site-packages/strawberry/schema/schema_converter.py\", line 788, in _async_resolver\n",
      "    return await await_maybe(\n",
      "           ^^^^^^^^^^^^^^^^^^\n",
      "  File \"/Users/priyanka./Documents/ai-agents/venv/lib/python3.11/site-packages/strawberry/utils/await_maybe.py\", line 13, in await_maybe\n",
      "    return await value\n",
      "           ^^^^^^^^^^^\n",
      "  File \"/Users/priyanka./Documents/ai-agents/venv/lib/python3.11/site-packages/phoenix/server/api/queries.py\", line 508, in node\n",
      "    raise NotFound(f\"Unknown dataset: {id}\")\n",
      "phoenix.server.api.exceptions.NotFound: Unknown dataset: RGF0YXNldDox\n"
     ]
    }
   ],
   "source": [
    "session = setup_phoenix()"
   ]
  },
  {
   "cell_type": "code",
   "execution_count": 5,
   "id": "d5b16ff3",
   "metadata": {},
   "outputs": [],
   "source": [
    "PROJECT_NAME =\"tracing_agent\""
   ]
  },
  {
   "cell_type": "code",
   "execution_count": 6,
   "id": "9e016bf9",
   "metadata": {},
   "outputs": [
    {
     "name": "stdout",
     "output_type": "stream",
     "text": [
      "🔭 OpenTelemetry Tracing Details 🔭\n",
      "|  Phoenix Project: tracing_agent\n",
      "|  Span Processor: SimpleSpanProcessor\n",
      "|  Collector Endpoint: http://localhost:6006/v1/traces\n",
      "|  Transport: HTTP + protobuf\n",
      "|  Transport Headers: {}\n",
      "|  \n",
      "|  Using a default SpanProcessor. `add_span_processor` will overwrite this default.\n",
      "|  \n",
      "|  `register` has set this TracerProvider as the global OpenTelemetry default.\n",
      "|  To disable this behavior, call `register` with `set_global_tracer_provider=False`.\n",
      "\n"
     ]
    }
   ],
   "source": [
    "tracer_provider = register(\n",
    "    project_name=PROJECT_NAME,\n",
    "    endpoint= get_phoenix_endpoint() + \"v1/traces\"\n",
    ")"
   ]
  },
  {
   "cell_type": "code",
   "execution_count": 7,
   "id": "30e51c40",
   "metadata": {},
   "outputs": [],
   "source": [
    "OpenAIInstrumentor().instrument(tracer_provider = tracer_provider)"
   ]
  },
  {
   "cell_type": "code",
   "execution_count": 8,
   "id": "b48a6657",
   "metadata": {},
   "outputs": [],
   "source": [
    "tracer = tracer_provider.get_tracer(__name__)"
   ]
  },
  {
   "cell_type": "markdown",
   "id": "9cb36814",
   "metadata": {},
   "source": [
    "#Tool 1: Dataset Lookup"
   ]
  },
  {
   "cell_type": "code",
   "execution_count": 9,
   "id": "6ebf311a",
   "metadata": {},
   "outputs": [],
   "source": [
    "# define the path to the transactional data\n",
    "TRANSACTION_DATA_FILE_PATH = 'Store_Sales_Price_Elasticity_Promotions_Data.parquet'"
   ]
  },
  {
   "cell_type": "code",
   "execution_count": 10,
   "id": "c4894745",
   "metadata": {},
   "outputs": [],
   "source": [
    "# prompt templete for sql generation\n",
    "\n",
    "SQL_GENERATION_PROMPT=\"\"\"\"\n",
    "Generate an SQL query based on a prompt. Do not reply with anything besides the SQL query.\n",
    "The prompt is : {prompt}\n",
    "\n",
    "The availabe columns are: {columns}\n",
    "The table name is: {table_name}\n",
    "\"\"\""
   ]
  },
  {
   "cell_type": "code",
   "execution_count": 11,
   "id": "54042c3c",
   "metadata": {},
   "outputs": [],
   "source": [
    "def generate_sql_query(prompt:str,columns:list,table_name:str)->str:\n",
    "    \"\"\"Generate an SQL query based on a prompt\"\"\"\n",
    "    formatted_prompt = SQL_GENERATION_PROMPT.format(prompt=prompt,columns=columns,table_name=table_name)\n",
    "\n",
    "    response = client.chat.completions.create(\n",
    "        model=MODEL,\n",
    "        messages=[{\"role\":\"user\",\"content\":formatted_prompt}],\n",
    "    )\n",
    "\n",
    "    return response.choices[0].message.content"
   ]
  },
  {
   "cell_type": "code",
   "execution_count": 12,
   "id": "f62f8575",
   "metadata": {},
   "outputs": [],
   "source": [
    "@tracer.tool()\n",
    "def lookup_sales_data(prompt:str)->str:\n",
    "    \"\"\"Implemantaion of sales data lookup from parquet file using SQL\"\"\"\n",
    "    try:\n",
    "        table_name=\"sales\" #table name\n",
    "\n",
    "        #read the parquet file into a duckdb table\n",
    "        df=pd.read_parquet(TRANSACTION_DATA_FILE_PATH)\n",
    "        duckdb.sql(f\"CREATE TABLE IF NOT EXISTS {table_name} AS SELECT * FROM df\")\n",
    "\n",
    "        #generate sql code\n",
    "        sql_query=generate_sql_query(prompt ,df.columns,table_name)\n",
    "\n",
    "        #clean the response to make sure it only includes the SQL code\n",
    "        sql_query = sql_query.strip()\n",
    "        sql_query=sql_query.replace(\"```sql\" , \"\").replace(\"```\" , \"\")\n",
    "        \n",
    "        with tracer.start_as_current_span(\n",
    "            \"execute_sql_query\",\n",
    "            openinference_span_kind=\"chain\"\n",
    "        ) as span:\n",
    "            span.set_input(sql_query)\n",
    "            # execute the query\n",
    "            result = duckdb.sql(sql_query).df()\n",
    "            span.set_output(value=str(result))\n",
    "            span.set_status(StatusCode.OK)\n",
    "\n",
    "        return result.to_string()\n",
    "    except Exception as e:\n",
    "        return f\"Error accessing data: {str(e)}\""
   ]
  },
  {
   "cell_type": "code",
   "execution_count": 13,
   "id": "2a12f145",
   "metadata": {},
   "outputs": [],
   "source": [
    "# #testing first tool\n",
    "# example_data = lookup_sales_data(\"Show me all the sales for store 1320 on November 1st, 2021\")\n",
    "\n",
    "# print(example_data)"
   ]
  },
  {
   "cell_type": "markdown",
   "id": "e7824b04",
   "metadata": {},
   "source": [
    "#Tool 2 : Data analysis "
   ]
  },
  {
   "cell_type": "code",
   "execution_count": 14,
   "id": "1a97fa7e",
   "metadata": {},
   "outputs": [],
   "source": [
    "DATA_ANALYSIS_PROMPT = \"\"\"\n",
    "Analyse the following data:{data}\n",
    "Your job is to answer the following question:{prompt}\"\"\""
   ]
  },
  {
   "cell_type": "code",
   "execution_count": 15,
   "id": "6e440bc0",
   "metadata": {},
   "outputs": [],
   "source": [
    "@tracer.tool()\n",
    "def analyze_sales_data(prompt:str,data:str)->str:\n",
    "    \"\"\"Implementation of AI-powered sales data analysis\"\"\"\n",
    "    formatted_prompt = DATA_ANALYSIS_PROMPT.format(data=data,prompt=prompt)\n",
    "\n",
    "    response = client.chat.completions.create(\n",
    "        model=MODEL,\n",
    "        messages=[{\"role\":\"user\", \"content\":formatted_prompt}]\n",
    "    )\n",
    "\n",
    "    analysis = response.choices[0].message.content\n",
    "    return analysis if analysis else \"No analysis could be generated\""
   ]
  },
  {
   "cell_type": "code",
   "execution_count": 16,
   "id": "198117f1",
   "metadata": {},
   "outputs": [],
   "source": [
    "# print(analyze_sales_data(prompt = \"What trends do you see in this data\",\n",
    "#                          data=example_data))"
   ]
  },
  {
   "cell_type": "markdown",
   "id": "d9f1bba6",
   "metadata": {},
   "source": [
    "#Tool 3 : Data visualization"
   ]
  },
  {
   "cell_type": "code",
   "execution_count": 17,
   "id": "3acf694b",
   "metadata": {},
   "outputs": [],
   "source": [
    "CHART_CONFIGURATION_PROMPT = \"\"\"\n",
    "Generate a chart configuration based on this data:{data}\n",
    "The goal is to show:{visualization_goal}\n",
    "\"\"\""
   ]
  },
  {
   "cell_type": "code",
   "execution_count": 18,
   "id": "8ef49c11",
   "metadata": {},
   "outputs": [],
   "source": [
    "class VisualizationConfig(BaseModel):\n",
    "    chart_type : str = Field (...,description=\"Type of chart to generate\")\n",
    "    x_axis: str = Field(..., description=\"Name of the x-axis column\")\n",
    "    y_axis: str = Field(..., description=\"Name of the y-axis column\")\n",
    "    title: str = Field(..., description=\"Title of the chart\")"
   ]
  },
  {
   "cell_type": "code",
   "execution_count": 19,
   "id": "de16d9b8",
   "metadata": {},
   "outputs": [],
   "source": [
    "@tracer.chain()\n",
    "def extract_chart_config(data:str, visualization_goal:str)-> str:\n",
    "    \"\"\"Generate chart visualization configuration\n",
    "    \n",
    "    Args:\n",
    "        data:String containing the data to visualize\n",
    "        visualization_goal:Description of what the visualization should show\n",
    "    Returns:\n",
    "        Dictionary containing line chart configuaration\n",
    "    \"\"\"\n",
    "    formatted_prompt=CHART_CONFIGURATION_PROMPT.format(data=data,visualization_goal=visualization_goal)\n",
    "\n",
    "    response = client.beta.chat.completions.parse(\n",
    "        model=MODEL,\n",
    "        messages=[{\"role\":\"user\" , \"content\":formatted_prompt}],\n",
    "        response_format=VisualizationConfig\n",
    "    )       \n",
    "    try:\n",
    "        #Extract axis and title info from response\n",
    "        content = response.choices[0].message.content\n",
    "\n",
    "        return{\n",
    "            \"chart_type\":content.chart_type,\n",
    "            \"x_axis\": content.x_axis,\n",
    "            \"y_axis\": content.y_axis,\n",
    "            \"title\": content.title,\n",
    "            \"data\": data\n",
    "        }\n",
    "    except Exception:\n",
    "        return{\n",
    "            \"chart_type\": \"line\", \n",
    "            \"x_axis\": \"date\",\n",
    "            \"y_axis\": \"value\",\n",
    "            \"title\": visualization_goal,\n",
    "            \"data\": data\n",
    "        }\n"
   ]
  },
  {
   "cell_type": "code",
   "execution_count": 20,
   "id": "e66b2ffc",
   "metadata": {},
   "outputs": [],
   "source": [
    "CREATE_CHART_PROMPT=\"\"\"\n",
    "Write python code to create a chart based on the following configuration.\n",
    "Only return the code, no other text.\n",
    "config:{config}\n",
    "\"\"\""
   ]
  },
  {
   "cell_type": "code",
   "execution_count": 21,
   "id": "852ea4e0",
   "metadata": {},
   "outputs": [],
   "source": [
    "@tracer.chain()\n",
    "def create_chart(config: dict)-> str:\n",
    "    \"\"\"Create a chart based on the configuration\"\"\"\n",
    "    formatted_prompt = CREATE_CHART_PROMPT.format(config=config)\n",
    "\n",
    "    response = client.chat.completions.create(\n",
    "        model=MODEL,\n",
    "        messages=[{\"role\":\"user\" , \"content\":formatted_prompt}],\n",
    "    )\n",
    "\n",
    "    code = response.choices[0].message.content\n",
    "    code = code.replace(\"```python\",\"\").replace(\"```\",\"\")\n",
    "    code = code.strip()\n",
    "\n",
    "    return code\n"
   ]
  },
  {
   "cell_type": "code",
   "execution_count": 22,
   "id": "6dd9ea83",
   "metadata": {},
   "outputs": [],
   "source": [
    "@tracer.tool()\n",
    "def generate_visualization(data:str,visualization_goal:str)->str:\n",
    "    \"\"\"Generate a visualization based on the data and goal\"\"\"\n",
    "    config = extract_chart_config(data,visualization_goal)\n",
    "    code = create_chart(config)\n",
    "    return code\n"
   ]
  },
  {
   "cell_type": "code",
   "execution_count": 23,
   "id": "262e0c32",
   "metadata": {},
   "outputs": [],
   "source": [
    "# code = generate_visualization(example_data,\"A bar chart of sales by product SKU. Put the product SKU on the x-axis and the sales on the y-axis.\")\n",
    "# print(code)"
   ]
  },
  {
   "cell_type": "code",
   "execution_count": 24,
   "id": "0c1a4c0c",
   "metadata": {},
   "outputs": [],
   "source": [
    "# exec(code)\n",
    "# for safety we should wrap the code generated by llm within an enclosed environment "
   ]
  },
  {
   "cell_type": "markdown",
   "id": "07fcadac",
   "metadata": {},
   "source": [
    "# Defining the Router"
   ]
  },
  {
   "cell_type": "code",
   "execution_count": 25,
   "id": "e80dd118",
   "metadata": {},
   "outputs": [],
   "source": [
    "#Tool Schema\n",
    "tools =[{\n",
    "    \"type\":\"function\",\n",
    "    \"function\":{\n",
    "        \"name\":\"lookup_sales_data\",\n",
    "        \"description\":\"Look up data from Store Scales Price Elasticity Promotions dataset\",\n",
    "        \"parameters\":{\n",
    "            \"type\":\"object\",\n",
    "            \"properties\":{\n",
    "                \"prompt\":{\"type\":\"string\" , \"description\":\"The unchanged prompt that the user provided.\"}  \n",
    "            },\n",
    "            \"required\":[\"prompt\"]\n",
    "        }\n",
    "    }\n",
    "},\n",
    "{\n",
    "    \"type\": \"function\",\n",
    "    \"function\": {\n",
    "        \"name\": \"analyze_sales_data\", \n",
    "        \"description\": \"Analyze sales data to extract insights\",\n",
    "        \"parameters\": {\n",
    "            \"type\": \"object\",\n",
    "            \"properties\": {\n",
    "                \"data\": {\"type\": \"string\", \"description\": \"The lookup_sales_data tool's output.\"},\n",
    "                \"prompt\": {\"type\": \"string\", \"description\": \"The unchanged prompt that the user provided.\"}\n",
    "            },\n",
    "            \"required\": [\"data\", \"prompt\"]\n",
    "        }\n",
    "    }\n",
    "\n",
    "},\n",
    "{\n",
    "    \"type\": \"function\",\n",
    "    \"function\": {\n",
    "        \"name\": \"generate_visualization\",\n",
    "        \"description\": \"Generate Python code to create data visualizations\",\n",
    "        \"parameters\": {\n",
    "            \"type\": \"object\", \n",
    "            \"properties\": {\n",
    "                \"data\": {\"type\": \"string\", \"description\": \"The lookup_sales_data tool's output.\"},\n",
    "                \"visualization_goal\": {\"type\": \"string\", \"description\": \"The goal of the visualization.\"}\n",
    "            },\n",
    "            \"required\": [\"data\", \"visualization_goal\"]\n",
    "        }\n",
    "    }\n",
    "}]\n",
    "\n",
    "# Dictionary mapping function names to their implementations\n",
    "tool_implementations = {\n",
    "    \"lookup_sales_data\": lookup_sales_data,\n",
    "    \"analyze_sales_data\": analyze_sales_data, \n",
    "    \"generate_visualization\": generate_visualization\n",
    "}"
   ]
  },
  {
   "cell_type": "markdown",
   "id": "4da259d7",
   "metadata": {},
   "source": [
    "#Router Logic"
   ]
  },
  {
   "cell_type": "code",
   "execution_count": 26,
   "id": "9644f73e",
   "metadata": {},
   "outputs": [],
   "source": [
    "@tracer.chain()\n",
    "def handle_tool_calls(tool_calls,messages):\n",
    "    \n",
    "    for tool_call in tool_calls:\n",
    "        function = tool_implementations[tool_call.function.name]\n",
    "        function_args = json.loads(tool_call.function.arguments)\n",
    "        result = function(**function_args)\n",
    "        messages.append({\"role\":\"tool\" , \"content\": result,\"tool_call_id\":tool_call.id})\n",
    "\n",
    "    return messages\n"
   ]
  },
  {
   "cell_type": "code",
   "execution_count": 27,
   "id": "7bd12166",
   "metadata": {},
   "outputs": [],
   "source": [
    "SYSTEM_PROMPT = \"\"\"\n",
    "You are a helpful assistant that can answer questions about the Store Sales Price Elasticity Promotions dataset.\n",
    "\"\"\""
   ]
  },
  {
   "cell_type": "code",
   "execution_count": 28,
   "id": "3f03d5e7",
   "metadata": {},
   "outputs": [],
   "source": [
    "def run_agent(messages):\n",
    "    print(\"Running agent with messages:\",messages)\n",
    "\n",
    "    if isinstance(messages,str):\n",
    "        messages=[{\"role\":\"user\" , \"content\":messages}]\n",
    "\n",
    "    if not any(\n",
    "            isinstance(message , dict) and message.get(\"role\") ==\"system\" for message in messages\n",
    "        ):\n",
    "            system_prompt = {\"role\":\"system\",\"content\": SYSTEM_PROMPT}\n",
    "            messages.append(system_prompt)\n",
    "\n",
    "    while True:\n",
    "        #Router Span \n",
    "        print(\"Starting router call span\")\n",
    "        with tracer.start_as_current_span(\n",
    "             \"router_call\" , openinference_span_kind=\"chain\"\n",
    "        ) as span:\n",
    "            span.set_input(value=messages)\n",
    "            response=client.chat.completions.create(\n",
    "                model=MODEL,\n",
    "                messages=messages,\n",
    "                tools=tools,\n",
    "            )\n",
    "            messages.append(response.choices[0].message)\n",
    "            tool_calls= response.choices[0].message.tool_calls\n",
    "            print(\"Received response with tool calls:\", bool(tool_calls))\n",
    "            span.set_status(StatusCode.OK)\n",
    "\n",
    "        # if the model decides to call function(s), call handle_tool_calls\n",
    "        if tool_calls:\n",
    "            print(\"Processing tool calls\")\n",
    "            messages = handle_tool_calls(tool_calls, messages)\n",
    "            span.set_output(value=tool_calls)\n",
    "        else:\n",
    "            print(\"No tool calls, returning final response\")\n",
    "            span.set_output(value=response.choices[0].message.content)\n",
    "            return response.choices[0].message.content\n",
    "        \n",
    "                "
   ]
  },
  {
   "cell_type": "code",
   "execution_count": 29,
   "id": "33f5f9b0",
   "metadata": {},
   "outputs": [],
   "source": [
    "# result = run_agent('Show me the code for graph of sales by store in Nov 2021, and tell me what trends you see.')"
   ]
  },
  {
   "cell_type": "code",
   "execution_count": 30,
   "id": "dee09d6f",
   "metadata": {},
   "outputs": [],
   "source": [
    "# print(result)"
   ]
  },
  {
   "cell_type": "code",
   "execution_count": 31,
   "id": "3d36c71a",
   "metadata": {},
   "outputs": [],
   "source": [
    "def start_main_span(messages):\n",
    "    print(\"Starting main span with messages:\", messages)\n",
    "    \n",
    "    with tracer.start_as_current_span(\n",
    "        \"AgentRun\", openinference_span_kind=\"agent\"\n",
    "    ) as span:\n",
    "        span.set_input(value=messages)\n",
    "        ret = run_agent(messages)\n",
    "        print(\"Main span completed with return value:\", ret)\n",
    "        span.set_output(value=ret)\n",
    "        span.set_status(StatusCode.OK)\n",
    "        return ret"
   ]
  },
  {
   "cell_type": "code",
   "execution_count": 32,
   "id": "31fc5341",
   "metadata": {},
   "outputs": [
    {
     "name": "stdout",
     "output_type": "stream",
     "text": [
      "Starting main span with messages: [{'role': 'user', 'content': 'Which stores did the best in 2021?'}]\n",
      "Running agent with messages: [{'role': 'user', 'content': 'Which stores did the best in 2021?'}]\n",
      "Starting router call span\n",
      "Received response with tool calls: True\n",
      "Processing tool calls\n"
     ]
    },
    {
     "name": "stderr",
     "output_type": "stream",
     "text": [
      "Setting attribute on ended span.\n",
      "Setting attribute on ended span.\n"
     ]
    },
    {
     "name": "stdout",
     "output_type": "stream",
     "text": [
      "Starting router call span\n",
      "Received response with tool calls: True\n",
      "Processing tool calls\n"
     ]
    },
    {
     "name": "stderr",
     "output_type": "stream",
     "text": [
      "Setting attribute on ended span.\n",
      "Setting attribute on ended span.\n"
     ]
    },
    {
     "name": "stdout",
     "output_type": "stream",
     "text": [
      "Starting router call span\n"
     ]
    },
    {
     "name": "stderr",
     "output_type": "stream",
     "text": [
      "Setting attribute on ended span.\n",
      "Setting attribute on ended span.\n"
     ]
    },
    {
     "name": "stdout",
     "output_type": "stream",
     "text": [
      "Received response with tool calls: False\n",
      "No tool calls, returning final response\n",
      "Main span completed with return value: In 2021, the best-performing stores based on total sales were:\n",
      "\n",
      "1. **Store Number 2970**: $84,454.33\n",
      "2. **Store Number 3300**: $63,205.33\n",
      "3. **Store Number 1650**: $62,152.43\n",
      "4. **Store Number 1540**: $58,777.02\n",
      "5. **Store Number 1210**: $55,435.62\n",
      "6. **Store Number 1100**: $52,494.89\n",
      "7. **Store Number 1320**: $52,407.36\n",
      "8. **Store Number 2750**: $51,959.20\n",
      "9. **Store Number 2200**: $51,634.51\n",
      "10. **Store Number 3080**: $50,704.06\n",
      "\n",
      "The store with the highest total sales was **Store Number 2970**, with total sales of **$84,454.33**.\n"
     ]
    }
   ],
   "source": [
    "result = start_main_span([{\"role\": \"user\", \n",
    "                           \"content\": \"Which stores did the best in 2021?\"}])"
   ]
  }
 ],
 "metadata": {
  "kernelspec": {
   "display_name": "venv",
   "language": "python",
   "name": "python3"
  },
  "language_info": {
   "codemirror_mode": {
    "name": "ipython",
    "version": 3
   },
   "file_extension": ".py",
   "mimetype": "text/x-python",
   "name": "python",
   "nbconvert_exporter": "python",
   "pygments_lexer": "ipython3",
   "version": "3.11.13"
  }
 },
 "nbformat": 4,
 "nbformat_minor": 5
}
