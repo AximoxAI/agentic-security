{
 "cells": [
  {
   "cell_type": "code",
   "execution_count": 1,
   "id": "790dd865",
   "metadata": {},
   "outputs": [],
   "source": [
    "# from utils import TRANSACTION_DATA_FILE_PATH\n",
    "# import os\n",
    "\n",
    "# print(\"Resolved dataset path:\", TRANSACTION_DATA_FILE_PATH)\n",
    "# print(\"Exists?\", os.path.exists(TRANSACTION_DATA_FILE_PATH))\n"
   ]
  },
  {
   "cell_type": "code",
   "execution_count": 2,
   "id": "de23f131",
   "metadata": {},
   "outputs": [],
   "source": [
    "import warnings\n",
    "warnings.filterwarnings('ignore')"
   ]
  },
  {
   "cell_type": "code",
   "execution_count": 3,
   "id": "638d47b4",
   "metadata": {},
   "outputs": [],
   "source": [
    "import phoenix as px\n",
    "import os\n",
    "import json\n",
    "from tqdm import tqdm\n",
    "from phoenix.evals import (\n",
    "    TOOL_CALLING_PROMPT_TEMPLATE, \n",
    "    llm_classify,\n",
    "    OpenAIModel\n",
    ")\n",
    "from phoenix.trace import SpanEvaluations\n",
    "from phoenix.trace.dsl import SpanQuery\n",
    "from openinference.instrumentation import suppress_tracing\n",
    "\n",
    "import nest_asyncio\n",
    "nest_asyncio.apply()"
   ]
  },
  {
   "cell_type": "code",
   "execution_count": 4,
   "id": "5be6cb60",
   "metadata": {},
   "outputs": [],
   "source": [
    "PROJECT_NAME = \"evaluating-agent\""
   ]
  },
  {
   "cell_type": "code",
   "execution_count": 5,
   "id": "3826ee99",
   "metadata": {},
   "outputs": [
    {
     "name": "stdout",
     "output_type": "stream",
     "text": [
      "🔭 OpenTelemetry Tracing Details 🔭\n",
      "|  Phoenix Project: evaluating-agent\n",
      "|  Span Processor: SimpleSpanProcessor\n",
      "|  Collector Endpoint: http://localhost:6006/v1/traces\n",
      "|  Transport: HTTP + protobuf\n",
      "|  Transport Headers: {}\n",
      "|  \n",
      "|  Using a default SpanProcessor. `add_span_processor` will overwrite this default.\n",
      "|  \n",
      "|  `register` has set this TracerProvider as the global OpenTelemetry default.\n",
      "|  To disable this behavior, call `register` with `set_global_tracer_provider=False`.\n",
      "\n"
     ]
    }
   ],
   "source": [
    "from utils import run_agent, start_main_span, tools\n",
    "from helper import get_phoenix_endpoint"
   ]
  },
  {
   "cell_type": "code",
   "execution_count": 6,
   "id": "cf343b06",
   "metadata": {},
   "outputs": [
    {
     "name": "stderr",
     "output_type": "stream",
     "text": [
      "Processing questions:   0%|          | 0/6 [00:00<?, ?it/s]"
     ]
    },
    {
     "name": "stdout",
     "output_type": "stream",
     "text": [
      "Starting main span with messages: [{'role': 'user', 'content': 'What was the most popular product SKU?'}]\n",
      "Running agent with messages: [{'role': 'user', 'content': 'What was the most popular product SKU?'}]\n",
      "Starting router call span\n",
      "Received response with tool calls: True\n",
      "Processing tool calls\n"
     ]
    },
    {
     "name": "stderr",
     "output_type": "stream",
     "text": [
      "Setting attribute on ended span.\n",
      "Setting attribute on ended span.\n"
     ]
    },
    {
     "name": "stdout",
     "output_type": "stream",
     "text": [
      "Starting router call span\n"
     ]
    },
    {
     "name": "stderr",
     "output_type": "stream",
     "text": [
      "Setting attribute on ended span.\n",
      "Setting attribute on ended span.\n",
      "Processing questions:  17%|█▋        | 1/6 [00:04<00:21,  4.29s/it]"
     ]
    },
    {
     "name": "stdout",
     "output_type": "stream",
     "text": [
      "Received response with tool calls: False\n",
      "No tool calls, returning final response\n",
      "Starting main span with messages: [{'role': 'user', 'content': 'What was the total revenue across all stores?'}]\n",
      "Running agent with messages: [{'role': 'user', 'content': 'What was the total revenue across all stores?'}]\n",
      "Starting router call span\n",
      "Received response with tool calls: True\n",
      "Processing tool calls\n"
     ]
    },
    {
     "name": "stderr",
     "output_type": "stream",
     "text": [
      "Setting attribute on ended span.\n",
      "Setting attribute on ended span.\n"
     ]
    },
    {
     "name": "stdout",
     "output_type": "stream",
     "text": [
      "Starting router call span\n"
     ]
    },
    {
     "name": "stderr",
     "output_type": "stream",
     "text": [
      "Setting attribute on ended span.\n",
      "Setting attribute on ended span.\n",
      "Processing questions:  33%|███▎      | 2/6 [00:08<00:17,  4.30s/it]"
     ]
    },
    {
     "name": "stdout",
     "output_type": "stream",
     "text": [
      "Received response with tool calls: False\n",
      "No tool calls, returning final response\n",
      "Starting main span with messages: [{'role': 'user', 'content': 'Which store had the highest sales volume?'}]\n",
      "Running agent with messages: [{'role': 'user', 'content': 'Which store had the highest sales volume?'}]\n",
      "Starting router call span\n",
      "Received response with tool calls: True\n",
      "Processing tool calls\n"
     ]
    },
    {
     "name": "stderr",
     "output_type": "stream",
     "text": [
      "Setting attribute on ended span.\n",
      "Setting attribute on ended span.\n"
     ]
    },
    {
     "name": "stdout",
     "output_type": "stream",
     "text": [
      "Starting router call span\n"
     ]
    },
    {
     "name": "stderr",
     "output_type": "stream",
     "text": [
      "Setting attribute on ended span.\n",
      "Setting attribute on ended span.\n",
      "Processing questions:  50%|█████     | 3/6 [00:12<00:11,  3.96s/it]"
     ]
    },
    {
     "name": "stdout",
     "output_type": "stream",
     "text": [
      "Received response with tool calls: False\n",
      "No tool calls, returning final response\n",
      "Starting main span with messages: [{'role': 'user', 'content': 'Create a bar chart showing total sales by store'}]\n",
      "Running agent with messages: [{'role': 'user', 'content': 'Create a bar chart showing total sales by store'}]\n",
      "Starting router call span\n",
      "Received response with tool calls: True\n",
      "Processing tool calls\n"
     ]
    },
    {
     "name": "stderr",
     "output_type": "stream",
     "text": [
      "Setting attribute on ended span.\n",
      "Setting attribute on ended span.\n"
     ]
    },
    {
     "name": "stdout",
     "output_type": "stream",
     "text": [
      "Starting router call span\n",
      "Received response with tool calls: True\n",
      "Processing tool calls\n"
     ]
    },
    {
     "name": "stderr",
     "output_type": "stream",
     "text": [
      "Setting attribute on ended span.\n",
      "Setting attribute on ended span.\n"
     ]
    },
    {
     "name": "stdout",
     "output_type": "stream",
     "text": [
      "Starting router call span\n"
     ]
    },
    {
     "name": "stderr",
     "output_type": "stream",
     "text": [
      "Setting attribute on ended span.\n",
      "Setting attribute on ended span.\n",
      "Processing questions:  67%|██████▋   | 4/6 [00:57<00:40, 20.47s/it]"
     ]
    },
    {
     "name": "stdout",
     "output_type": "stream",
     "text": [
      "Received response with tool calls: False\n",
      "No tool calls, returning final response\n",
      "Starting main span with messages: [{'role': 'user', 'content': 'What percentage of items were sold on promotion?'}]\n",
      "Running agent with messages: [{'role': 'user', 'content': 'What percentage of items were sold on promotion?'}]\n",
      "Starting router call span\n",
      "Received response with tool calls: True\n",
      "Processing tool calls\n"
     ]
    },
    {
     "name": "stderr",
     "output_type": "stream",
     "text": [
      "Setting attribute on ended span.\n",
      "Setting attribute on ended span.\n"
     ]
    },
    {
     "name": "stdout",
     "output_type": "stream",
     "text": [
      "Starting router call span\n"
     ]
    },
    {
     "name": "stderr",
     "output_type": "stream",
     "text": [
      "Setting attribute on ended span.\n",
      "Setting attribute on ended span.\n",
      "Processing questions:  83%|████████▎ | 5/6 [01:01<00:14, 14.26s/it]"
     ]
    },
    {
     "name": "stdout",
     "output_type": "stream",
     "text": [
      "Received response with tool calls: False\n",
      "No tool calls, returning final response\n",
      "Starting main span with messages: [{'role': 'user', 'content': 'What was the average transaction value?'}]\n",
      "Running agent with messages: [{'role': 'user', 'content': 'What was the average transaction value?'}]\n",
      "Starting router call span\n",
      "Received response with tool calls: True\n",
      "Processing tool calls\n"
     ]
    },
    {
     "name": "stderr",
     "output_type": "stream",
     "text": [
      "Setting attribute on ended span.\n",
      "Setting attribute on ended span.\n"
     ]
    },
    {
     "name": "stdout",
     "output_type": "stream",
     "text": [
      "Starting router call span\n"
     ]
    },
    {
     "name": "stderr",
     "output_type": "stream",
     "text": [
      "Setting attribute on ended span.\n",
      "Setting attribute on ended span.\n",
      "Processing questions: 100%|██████████| 6/6 [01:03<00:00, 10.65s/it]"
     ]
    },
    {
     "name": "stdout",
     "output_type": "stream",
     "text": [
      "Received response with tool calls: False\n",
      "No tool calls, returning final response\n"
     ]
    },
    {
     "name": "stderr",
     "output_type": "stream",
     "text": [
      "\n"
     ]
    }
   ],
   "source": [
    "agent_questions = [\n",
    "    \"What was the most popular product SKU?\",\n",
    "    \"What was the total revenue across all stores?\",\n",
    "    \"Which store had the highest sales volume?\",\n",
    "    \"Create a bar chart showing total sales by store\",\n",
    "    \"What percentage of items were sold on promotion?\",\n",
    "    \"What was the average transaction value?\"\n",
    "]\n",
    "\n",
    "for question in tqdm(agent_questions , desc=\"Processing questions\"):\n",
    "    try:\n",
    "        ret = start_main_span([{\"role\":\"user\",\"content\":question}])\n",
    "    except Exception as e:\n",
    "        print(f\"Error processing question:{question}\")\n",
    "        print(e)\n",
    "        continue"
   ]
  },
  {
   "cell_type": "markdown",
   "id": "9ec0227c",
   "metadata": {},
   "source": [
    "Router Evals using LLM-as-a-judge"
   ]
  },
  {
   "cell_type": "code",
   "execution_count": 7,
   "id": "0ebd7127",
   "metadata": {},
   "outputs": [
    {
     "name": "stdout",
     "output_type": "stream",
     "text": [
      "http://localhost:6006/\n"
     ]
    }
   ],
   "source": [
    "print(get_phoenix_endpoint())"
   ]
  },
  {
   "cell_type": "code",
   "execution_count": 8,
   "id": "e29c0c56",
   "metadata": {},
   "outputs": [
    {
     "name": "stdout",
     "output_type": "stream",
     "text": [
      "\n",
      "You are an evaluation assistant evaluating questions and tool calls to\n",
      "determine whether the tool called would answer the question. The tool\n",
      "calls have been generated by a separate agent, and chosen from the list of\n",
      "tools provided below. It is your job to decide whether that agent chose\n",
      "the right tool to call.\n",
      "\n",
      "    [BEGIN DATA]\n",
      "    ************\n",
      "    [Question]: {question}\n",
      "    ************\n",
      "    [Tool Called]: {tool_call}\n",
      "    [END DATA]\n",
      "\n",
      "Your response must be single word, either \"correct\" or \"incorrect\",\n",
      "and should not contain any text or characters aside from that word.\n",
      "\"incorrect\" means that the chosen tool would not answer the question,\n",
      "the tool includes information that is not presented in the question,\n",
      "or that the tool signature includes parameter values that don't match\n",
      "the formats specified in the tool signatures below.\n",
      "\n",
      "\"correct\" means the correct tool call was chosen, the correct parameters\n",
      "were extracted from the question, the tool call generated is runnable and correct,\n",
      "and that no outside information not present in the question was used\n",
      "in the generated question.\n",
      "\n",
      "    [Tool Definitions]: {tool_definitions}\n",
      "\n"
     ]
    }
   ],
   "source": [
    "print(TOOL_CALLING_PROMPT_TEMPLATE)"
   ]
  },
  {
   "cell_type": "code",
   "execution_count": 9,
   "id": "5f2f9250",
   "metadata": {},
   "outputs": [
    {
     "data": {
      "text/html": [
       "<div>\n",
       "<style scoped>\n",
       "    .dataframe tbody tr th:only-of-type {\n",
       "        vertical-align: middle;\n",
       "    }\n",
       "\n",
       "    .dataframe tbody tr th {\n",
       "        vertical-align: top;\n",
       "    }\n",
       "\n",
       "    .dataframe thead th {\n",
       "        text-align: right;\n",
       "    }\n",
       "</style>\n",
       "<table border=\"1\" class=\"dataframe\">\n",
       "  <thead>\n",
       "    <tr style=\"text-align: right;\">\n",
       "      <th></th>\n",
       "      <th>question</th>\n",
       "      <th>tool_call</th>\n",
       "    </tr>\n",
       "    <tr>\n",
       "      <th>context.span_id</th>\n",
       "      <th></th>\n",
       "      <th></th>\n",
       "    </tr>\n",
       "  </thead>\n",
       "  <tbody>\n",
       "    <tr>\n",
       "      <th>5726d8bdc8d7f930</th>\n",
       "      <td>{\"messages\": [{\"role\": \"user\", \"content\": \"Wha...</td>\n",
       "      <td>[{'tool': {'json_schema': '{\"type\": \"function\"...</td>\n",
       "    </tr>\n",
       "    <tr>\n",
       "      <th>a91b425202f9d024</th>\n",
       "      <td>{\"messages\": [{\"role\": \"user\", \"content\": \"Wha...</td>\n",
       "      <td>[{'tool': {'json_schema': '{\"type\": \"function\"...</td>\n",
       "    </tr>\n",
       "    <tr>\n",
       "      <th>883665b941ab92b3</th>\n",
       "      <td>{\"messages\": [{\"role\": \"user\", \"content\": \"Wha...</td>\n",
       "      <td>[{'tool': {'json_schema': '{\"type\": \"function\"...</td>\n",
       "    </tr>\n",
       "    <tr>\n",
       "      <th>7053adcde33dc6aa</th>\n",
       "      <td>{\"messages\": [{\"role\": \"user\", \"content\": \"Wha...</td>\n",
       "      <td>[{'tool': {'json_schema': '{\"type\": \"function\"...</td>\n",
       "    </tr>\n",
       "    <tr>\n",
       "      <th>a54153bb969e2262</th>\n",
       "      <td>{\"messages\": [{\"role\": \"user\", \"content\": \"Whi...</td>\n",
       "      <td>[{'tool': {'json_schema': '{\"type\": \"function\"...</td>\n",
       "    </tr>\n",
       "  </tbody>\n",
       "</table>\n",
       "</div>"
      ],
      "text/plain": [
       "                                                           question  \\\n",
       "context.span_id                                                       \n",
       "5726d8bdc8d7f930  {\"messages\": [{\"role\": \"user\", \"content\": \"Wha...   \n",
       "a91b425202f9d024  {\"messages\": [{\"role\": \"user\", \"content\": \"Wha...   \n",
       "883665b941ab92b3  {\"messages\": [{\"role\": \"user\", \"content\": \"Wha...   \n",
       "7053adcde33dc6aa  {\"messages\": [{\"role\": \"user\", \"content\": \"Wha...   \n",
       "a54153bb969e2262  {\"messages\": [{\"role\": \"user\", \"content\": \"Whi...   \n",
       "\n",
       "                                                          tool_call  \n",
       "context.span_id                                                      \n",
       "5726d8bdc8d7f930  [{'tool': {'json_schema': '{\"type\": \"function\"...  \n",
       "a91b425202f9d024  [{'tool': {'json_schema': '{\"type\": \"function\"...  \n",
       "883665b941ab92b3  [{'tool': {'json_schema': '{\"type\": \"function\"...  \n",
       "7053adcde33dc6aa  [{'tool': {'json_schema': '{\"type\": \"function\"...  \n",
       "a54153bb969e2262  [{'tool': {'json_schema': '{\"type\": \"function\"...  "
      ]
     },
     "execution_count": 9,
     "metadata": {},
     "output_type": "execute_result"
    }
   ],
   "source": [
    "query = SpanQuery().where(\n",
    "    # Filter for the `LLM` span kind.\n",
    "    # The filter condition is a string of valid Python boolean expression.\n",
    "    \"span_kind == 'LLM'\",\n",
    ").select(\n",
    "    question=\"input.value\",\n",
    "    tool_call=\"llm.tools\"\n",
    ")\n",
    "\n",
    "# The Phoenix Client can take this query and return the dataframe.\n",
    "tool_calls_df = px.Client().query_spans(query, \n",
    "                                        project_name=PROJECT_NAME, \n",
    "                                        timeout=None)\n",
    "tool_calls_df = tool_calls_df.dropna(subset=[\"tool_call\"])\n",
    "\n",
    "tool_calls_df.head()"
   ]
  },
  {
   "cell_type": "markdown",
   "id": "1d2aaa8c",
   "metadata": {},
   "source": [
    "Evaluating Tool Calling"
   ]
  },
  {
   "cell_type": "code",
   "execution_count": 10,
   "id": "c5981e08",
   "metadata": {},
   "outputs": [
    {
     "name": "stderr",
     "output_type": "stream",
     "text": [
      "llm_classify |██████████| 12/12 (100.0%) | ⏳ 00:07<00:00 |  1.59it/s\n"
     ]
    },
    {
     "data": {
      "text/html": [
       "<div>\n",
       "<style scoped>\n",
       "    .dataframe tbody tr th:only-of-type {\n",
       "        vertical-align: middle;\n",
       "    }\n",
       "\n",
       "    .dataframe tbody tr th {\n",
       "        vertical-align: top;\n",
       "    }\n",
       "\n",
       "    .dataframe thead th {\n",
       "        text-align: right;\n",
       "    }\n",
       "</style>\n",
       "<table border=\"1\" class=\"dataframe\">\n",
       "  <thead>\n",
       "    <tr style=\"text-align: right;\">\n",
       "      <th></th>\n",
       "      <th>label</th>\n",
       "      <th>explanation</th>\n",
       "      <th>exceptions</th>\n",
       "      <th>execution_status</th>\n",
       "      <th>execution_seconds</th>\n",
       "      <th>score</th>\n",
       "    </tr>\n",
       "    <tr>\n",
       "      <th>context.span_id</th>\n",
       "      <th></th>\n",
       "      <th></th>\n",
       "      <th></th>\n",
       "      <th></th>\n",
       "      <th></th>\n",
       "      <th></th>\n",
       "    </tr>\n",
       "  </thead>\n",
       "  <tbody>\n",
       "    <tr>\n",
       "      <th>5726d8bdc8d7f930</th>\n",
       "      <td>correct</td>\n",
       "      <td>The question asks for the most popular product...</td>\n",
       "      <td>[]</td>\n",
       "      <td>COMPLETED</td>\n",
       "      <td>1.486087</td>\n",
       "      <td>1</td>\n",
       "    </tr>\n",
       "    <tr>\n",
       "      <th>a91b425202f9d024</th>\n",
       "      <td>correct</td>\n",
       "      <td>The question asks for the most popular product...</td>\n",
       "      <td>[]</td>\n",
       "      <td>COMPLETED</td>\n",
       "      <td>1.887714</td>\n",
       "      <td>1</td>\n",
       "    </tr>\n",
       "    <tr>\n",
       "      <th>883665b941ab92b3</th>\n",
       "      <td>correct</td>\n",
       "      <td>The question asks for the total revenue across...</td>\n",
       "      <td>[]</td>\n",
       "      <td>COMPLETED</td>\n",
       "      <td>3.379995</td>\n",
       "      <td>1</td>\n",
       "    </tr>\n",
       "    <tr>\n",
       "      <th>7053adcde33dc6aa</th>\n",
       "      <td>correct</td>\n",
       "      <td>The question asks for the total revenue across...</td>\n",
       "      <td>[]</td>\n",
       "      <td>COMPLETED</td>\n",
       "      <td>6.531854</td>\n",
       "      <td>1</td>\n",
       "    </tr>\n",
       "    <tr>\n",
       "      <th>a54153bb969e2262</th>\n",
       "      <td>correct</td>\n",
       "      <td>The question asks for the store with the highe...</td>\n",
       "      <td>[]</td>\n",
       "      <td>COMPLETED</td>\n",
       "      <td>4.567499</td>\n",
       "      <td>1</td>\n",
       "    </tr>\n",
       "  </tbody>\n",
       "</table>\n",
       "</div>"
      ],
      "text/plain": [
       "                    label                                        explanation  \\\n",
       "context.span_id                                                                \n",
       "5726d8bdc8d7f930  correct  The question asks for the most popular product...   \n",
       "a91b425202f9d024  correct  The question asks for the most popular product...   \n",
       "883665b941ab92b3  correct  The question asks for the total revenue across...   \n",
       "7053adcde33dc6aa  correct  The question asks for the total revenue across...   \n",
       "a54153bb969e2262  correct  The question asks for the store with the highe...   \n",
       "\n",
       "                 exceptions execution_status  execution_seconds  score  \n",
       "context.span_id                                                         \n",
       "5726d8bdc8d7f930         []        COMPLETED           1.486087      1  \n",
       "a91b425202f9d024         []        COMPLETED           1.887714      1  \n",
       "883665b941ab92b3         []        COMPLETED           3.379995      1  \n",
       "7053adcde33dc6aa         []        COMPLETED           6.531854      1  \n",
       "a54153bb969e2262         []        COMPLETED           4.567499      1  "
      ]
     },
     "execution_count": 10,
     "metadata": {},
     "output_type": "execute_result"
    }
   ],
   "source": [
    "with suppress_tracing():\n",
    "    tool_call_eval = llm_classify(\n",
    "        dataframe = tool_calls_df,\n",
    "        template = TOOL_CALLING_PROMPT_TEMPLATE.template[0].template.replace(\"{tool_definitions}\" , json.dumps(tools).replace(\"{\",'\"' ).replace(\"}\" , '\"')),\n",
    "        rails = ['correct' , 'incorrect'],\n",
    "        model = OpenAIModel(model=\"gpt-4o\"),\n",
    "        provide_explanation = True\n",
    "    )\n",
    "\n",
    "tool_call_eval['score'] = tool_call_eval.apply(lambda x: 1 if x['label']=='correct' else 0, axis=1 )\n",
    "\n",
    "tool_call_eval.head()"
   ]
  },
  {
   "cell_type": "code",
   "execution_count": 11,
   "id": "0948a823",
   "metadata": {},
   "outputs": [],
   "source": [
    "px.Client().log_evaluations(\n",
    "    SpanEvaluations(eval_name=\"Tool calling eval\" , dataframe=tool_call_eval),\n",
    ")"
   ]
  },
  {
   "cell_type": "markdown",
   "id": "eecbf0d0",
   "metadata": {},
   "source": [
    "Evaluating Python code Gen(Tool 3- Data visualisation Evals)"
   ]
  },
  {
   "cell_type": "code",
   "execution_count": 12,
   "id": "d7b5219c",
   "metadata": {},
   "outputs": [
    {
     "data": {
      "text/html": [
       "<div>\n",
       "<style scoped>\n",
       "    .dataframe tbody tr th:only-of-type {\n",
       "        vertical-align: middle;\n",
       "    }\n",
       "\n",
       "    .dataframe tbody tr th {\n",
       "        vertical-align: top;\n",
       "    }\n",
       "\n",
       "    .dataframe thead th {\n",
       "        text-align: right;\n",
       "    }\n",
       "</style>\n",
       "<table border=\"1\" class=\"dataframe\">\n",
       "  <thead>\n",
       "    <tr style=\"text-align: right;\">\n",
       "      <th></th>\n",
       "      <th>generated_code</th>\n",
       "    </tr>\n",
       "    <tr>\n",
       "      <th>context.span_id</th>\n",
       "      <th></th>\n",
       "    </tr>\n",
       "  </thead>\n",
       "  <tbody>\n",
       "    <tr>\n",
       "      <th>df165011fb55378e</th>\n",
       "      <td>import matplotlib.pyplot as plt\\nimport json\\n...</td>\n",
       "    </tr>\n",
       "  </tbody>\n",
       "</table>\n",
       "</div>"
      ],
      "text/plain": [
       "                                                     generated_code\n",
       "context.span_id                                                    \n",
       "df165011fb55378e  import matplotlib.pyplot as plt\\nimport json\\n..."
      ]
     },
     "execution_count": 12,
     "metadata": {},
     "output_type": "execute_result"
    }
   ],
   "source": [
    "query = SpanQuery().where(\n",
    "    \"name == 'generate_visualization'\"\n",
    ").select(\n",
    "    generated_code = \"output.value\"\n",
    ")\n",
    "\n",
    "#The Phoenix Client can take this query and return the dataframe\n",
    "code_gen_df = px.Client().query_spans(query , project_name=PROJECT_NAME, timeout=None)\n",
    "\n",
    "code_gen_df.head()"
   ]
  },
  {
   "cell_type": "code",
   "execution_count": 13,
   "id": "fd8ba283",
   "metadata": {},
   "outputs": [],
   "source": [
    "def code_is_runnable(ouput:str)->bool:\n",
    "    \"\"\"Check if the code is runnable\"\"\"\n",
    "    output = ouput.strip()\n",
    "    output = ouput.replace(\"```python\" , \"\").replace(\"```\",\"\")\n",
    "    try:\n",
    "        exec(output)\n",
    "        return True\n",
    "    except Exception as e:\n",
    "        return False"
   ]
  },
  {
   "cell_type": "code",
   "execution_count": 14,
   "id": "767a267a",
   "metadata": {},
   "outputs": [
    {
     "data": {
      "image/png": "[encoded data removed]",
      "text/plain": [
       "<Figure size 1000x500 with 1 Axes>"
      ]
     },
     "metadata": {},
     "output_type": "display_data"
    }
   ],
   "source": [
    "code_gen_df[\"label\"] = code_gen_df[\"generated_code\"].apply(code_is_runnable).map({True :\"runnable\",False:\"not_runnable\"})\n",
    "code_gen_df[\"score\"]= code_gen_df[\"label\"].map({\"runnable\":1,\"not_runnable\":0})"
   ]
  },
  {
   "cell_type": "code",
   "execution_count": 15,
   "id": "67e2e153",
   "metadata": {},
   "outputs": [
    {
     "data": {
      "text/html": [
       "<div>\n",
       "<style scoped>\n",
       "    .dataframe tbody tr th:only-of-type {\n",
       "        vertical-align: middle;\n",
       "    }\n",
       "\n",
       "    .dataframe tbody tr th {\n",
       "        vertical-align: top;\n",
       "    }\n",
       "\n",
       "    .dataframe thead th {\n",
       "        text-align: right;\n",
       "    }\n",
       "</style>\n",
       "<table border=\"1\" class=\"dataframe\">\n",
       "  <thead>\n",
       "    <tr style=\"text-align: right;\">\n",
       "      <th></th>\n",
       "      <th>generated_code</th>\n",
       "      <th>label</th>\n",
       "      <th>score</th>\n",
       "    </tr>\n",
       "    <tr>\n",
       "      <th>context.span_id</th>\n",
       "      <th></th>\n",
       "      <th></th>\n",
       "      <th></th>\n",
       "    </tr>\n",
       "  </thead>\n",
       "  <tbody>\n",
       "    <tr>\n",
       "      <th>df165011fb55378e</th>\n",
       "      <td>import matplotlib.pyplot as plt\\nimport json\\n...</td>\n",
       "      <td>runnable</td>\n",
       "      <td>1</td>\n",
       "    </tr>\n",
       "  </tbody>\n",
       "</table>\n",
       "</div>"
      ],
      "text/plain": [
       "                                                     generated_code     label  \\\n",
       "context.span_id                                                                 \n",
       "df165011fb55378e  import matplotlib.pyplot as plt\\nimport json\\n...  runnable   \n",
       "\n",
       "                  score  \n",
       "context.span_id          \n",
       "df165011fb55378e      1  "
      ]
     },
     "execution_count": 15,
     "metadata": {},
     "output_type": "execute_result"
    }
   ],
   "source": [
    "code_gen_df.head()"
   ]
  },
  {
   "cell_type": "code",
   "execution_count": 16,
   "id": "43e8428c",
   "metadata": {},
   "outputs": [],
   "source": [
    "px.Client().log_evaluations(\n",
    "    SpanEvaluations(eval_name=\"Runnable code Eval\" , dataframe=code_gen_df),\n",
    ")"
   ]
  },
  {
   "cell_type": "markdown",
   "id": "0caa6859",
   "metadata": {},
   "source": [
    "Evaluating Analysis Clarity (Tool 2- Data Analysis Evals)"
   ]
  },
  {
   "cell_type": "code",
   "execution_count": 17,
   "id": "8c3c1a5f",
   "metadata": {},
   "outputs": [],
   "source": [
    "CLARITY_LLM_JUDGE_PROMPT = \"\"\"\n",
    "In this task, you will be presented with a query and an answer. Your objective is to evaluate the clarity \n",
    "of the answer in addressing the query. A clear response is one that is precise, coherent, and directly \n",
    "addresses the query without introducing unnecessary complexity or ambiguity. An unclear response is one \n",
    "that is vague, disorganized, or difficult to understand, even if it may be factually correct.\n",
    "\n",
    "Your response should be a single word: either \"clear\" or \"unclear,\" and it should not include any other \n",
    "text or characters. \"clear\" indicates that the answer is well-structured, easy to understand, and \n",
    "appropriately addresses the query. \"unclear\" indicates that some part of the response could be better \n",
    "structured or worded.\n",
    "Please carefully consider the query and answer before determining your response.\n",
    "\n",
    "After analyzing the query and the answer, you must write a detailed explanation of your reasoning to \n",
    "justify why you chose either \"clear\" or \"unclear.\" Avoid stating the final label at the beginning of your \n",
    "explanation. Your reasoning should include specific points about how the answer does or does not meet the \n",
    "criteria for clarity.\n",
    "\n",
    "[BEGIN DATA]\n",
    "Query: {query}\n",
    "Answer: {response}\n",
    "[END DATA]\n",
    "Please analyze the data carefully and provide an explanation followed by your response.\n",
    "\n",
    "EXPLANATION: Provide your reasoning step by step, evaluating the clarity of the answer based on the query.\n",
    "LABEL: \"clear\" or \"unclear\"\n",
    "\"\"\""
   ]
  },
  {
   "cell_type": "code",
   "execution_count": 18,
   "id": "0f6416d6",
   "metadata": {},
   "outputs": [
    {
     "data": {
      "text/html": [
       "<div>\n",
       "<style scoped>\n",
       "    .dataframe tbody tr th:only-of-type {\n",
       "        vertical-align: middle;\n",
       "    }\n",
       "\n",
       "    .dataframe tbody tr th {\n",
       "        vertical-align: top;\n",
       "    }\n",
       "\n",
       "    .dataframe thead th {\n",
       "        text-align: right;\n",
       "    }\n",
       "</style>\n",
       "<table border=\"1\" class=\"dataframe\">\n",
       "  <thead>\n",
       "    <tr style=\"text-align: right;\">\n",
       "      <th></th>\n",
       "      <th>response</th>\n",
       "      <th>query</th>\n",
       "    </tr>\n",
       "    <tr>\n",
       "      <th>context.span_id</th>\n",
       "      <th></th>\n",
       "      <th></th>\n",
       "    </tr>\n",
       "  </thead>\n",
       "  <tbody>\n",
       "    <tr>\n",
       "      <th>5bef8832198bbd15</th>\n",
       "      <td>The most popular product SKU was 6200700, with...</td>\n",
       "      <td>[{\"role\": \"user\", \"content\": \"What was the mos...</td>\n",
       "    </tr>\n",
       "    <tr>\n",
       "      <th>f2b2750edb36b18e</th>\n",
       "      <td>The total revenue across all stores was approx...</td>\n",
       "      <td>[{\"role\": \"user\", \"content\": \"What was the tot...</td>\n",
       "    </tr>\n",
       "    <tr>\n",
       "      <th>e7a57b1281d09fe0</th>\n",
       "      <td>The store with the highest sales volume is Sto...</td>\n",
       "      <td>[{\"role\": \"user\", \"content\": \"Which store had ...</td>\n",
       "    </tr>\n",
       "    <tr>\n",
       "      <th>c0d9adafad7d140a</th>\n",
       "      <td>The bar chart showing total sales by store is ...</td>\n",
       "      <td>[{\"role\": \"user\", \"content\": \"Create a bar cha...</td>\n",
       "    </tr>\n",
       "    <tr>\n",
       "      <th>e94a30fd72597c3e</th>\n",
       "      <td>Approximately 62.56% of items were sold on pro...</td>\n",
       "      <td>[{\"role\": \"user\", \"content\": \"What percentage ...</td>\n",
       "    </tr>\n",
       "  </tbody>\n",
       "</table>\n",
       "</div>"
      ],
      "text/plain": [
       "                                                           response  \\\n",
       "context.span_id                                                       \n",
       "5bef8832198bbd15  The most popular product SKU was 6200700, with...   \n",
       "f2b2750edb36b18e  The total revenue across all stores was approx...   \n",
       "e7a57b1281d09fe0  The store with the highest sales volume is Sto...   \n",
       "c0d9adafad7d140a  The bar chart showing total sales by store is ...   \n",
       "e94a30fd72597c3e  Approximately 62.56% of items were sold on pro...   \n",
       "\n",
       "                                                              query  \n",
       "context.span_id                                                      \n",
       "5bef8832198bbd15  [{\"role\": \"user\", \"content\": \"What was the mos...  \n",
       "f2b2750edb36b18e  [{\"role\": \"user\", \"content\": \"What was the tot...  \n",
       "e7a57b1281d09fe0  [{\"role\": \"user\", \"content\": \"Which store had ...  \n",
       "c0d9adafad7d140a  [{\"role\": \"user\", \"content\": \"Create a bar cha...  \n",
       "e94a30fd72597c3e  [{\"role\": \"user\", \"content\": \"What percentage ...  "
      ]
     },
     "execution_count": 18,
     "metadata": {},
     "output_type": "execute_result"
    }
   ],
   "source": [
    "query = SpanQuery().where(\n",
    "    \"span_kind=='AGENT'\"\n",
    ").select(\n",
    "    response=\"output.value\",\n",
    "    query=\"input.value\"\n",
    ")\n",
    "\n",
    "# The Phoenix Client can take this query and return the dataframe.\n",
    "clarity_df = px.Client().query_spans(query, \n",
    "                                     project_name=PROJECT_NAME,\n",
    "                                     timeout=None)\n",
    "\n",
    "clarity_df.head()"
   ]
  },
  {
   "cell_type": "code",
   "execution_count": 19,
   "id": "818a037e",
   "metadata": {},
   "outputs": [
    {
     "name": "stderr",
     "output_type": "stream",
     "text": [
      "llm_classify |██████████| 6/6 (100.0%) | ⏳ 00:06<00:00 |  1.01s/it\n"
     ]
    },
    {
     "data": {
      "text/html": [
       "<div>\n",
       "<style scoped>\n",
       "    .dataframe tbody tr th:only-of-type {\n",
       "        vertical-align: middle;\n",
       "    }\n",
       "\n",
       "    .dataframe tbody tr th {\n",
       "        vertical-align: top;\n",
       "    }\n",
       "\n",
       "    .dataframe thead th {\n",
       "        text-align: right;\n",
       "    }\n",
       "</style>\n",
       "<table border=\"1\" class=\"dataframe\">\n",
       "  <thead>\n",
       "    <tr style=\"text-align: right;\">\n",
       "      <th></th>\n",
       "      <th>label</th>\n",
       "      <th>explanation</th>\n",
       "      <th>exceptions</th>\n",
       "      <th>execution_status</th>\n",
       "      <th>execution_seconds</th>\n",
       "      <th>score</th>\n",
       "    </tr>\n",
       "    <tr>\n",
       "      <th>context.span_id</th>\n",
       "      <th></th>\n",
       "      <th></th>\n",
       "      <th></th>\n",
       "      <th></th>\n",
       "      <th></th>\n",
       "      <th></th>\n",
       "    </tr>\n",
       "  </thead>\n",
       "  <tbody>\n",
       "    <tr>\n",
       "      <th>5bef8832198bbd15</th>\n",
       "      <td>clear</td>\n",
       "      <td>The query asks for the most popular product SK...</td>\n",
       "      <td>[]</td>\n",
       "      <td>COMPLETED</td>\n",
       "      <td>4.338094</td>\n",
       "      <td>1</td>\n",
       "    </tr>\n",
       "    <tr>\n",
       "      <th>f2b2750edb36b18e</th>\n",
       "      <td>clear</td>\n",
       "      <td>The query asks for the total revenue across al...</td>\n",
       "      <td>[]</td>\n",
       "      <td>COMPLETED</td>\n",
       "      <td>3.802875</td>\n",
       "      <td>1</td>\n",
       "    </tr>\n",
       "    <tr>\n",
       "      <th>e7a57b1281d09fe0</th>\n",
       "      <td>clear</td>\n",
       "      <td>The query asks for the store with the highest ...</td>\n",
       "      <td>[]</td>\n",
       "      <td>COMPLETED</td>\n",
       "      <td>4.048988</td>\n",
       "      <td>1</td>\n",
       "    </tr>\n",
       "    <tr>\n",
       "      <th>c0d9adafad7d140a</th>\n",
       "      <td>clear</td>\n",
       "      <td>The query asks for a bar chart showing total s...</td>\n",
       "      <td>[]</td>\n",
       "      <td>COMPLETED</td>\n",
       "      <td>5.058307</td>\n",
       "      <td>1</td>\n",
       "    </tr>\n",
       "    <tr>\n",
       "      <th>e94a30fd72597c3e</th>\n",
       "      <td>clear</td>\n",
       "      <td>The query asks for the percentage of items sol...</td>\n",
       "      <td>[]</td>\n",
       "      <td>COMPLETED</td>\n",
       "      <td>3.671270</td>\n",
       "      <td>1</td>\n",
       "    </tr>\n",
       "  </tbody>\n",
       "</table>\n",
       "</div>"
      ],
      "text/plain": [
       "                  label                                        explanation  \\\n",
       "context.span_id                                                              \n",
       "5bef8832198bbd15  clear  The query asks for the most popular product SK...   \n",
       "f2b2750edb36b18e  clear  The query asks for the total revenue across al...   \n",
       "e7a57b1281d09fe0  clear  The query asks for the store with the highest ...   \n",
       "c0d9adafad7d140a  clear  The query asks for a bar chart showing total s...   \n",
       "e94a30fd72597c3e  clear  The query asks for the percentage of items sol...   \n",
       "\n",
       "                 exceptions execution_status  execution_seconds  score  \n",
       "context.span_id                                                         \n",
       "5bef8832198bbd15         []        COMPLETED           4.338094      1  \n",
       "f2b2750edb36b18e         []        COMPLETED           3.802875      1  \n",
       "e7a57b1281d09fe0         []        COMPLETED           4.048988      1  \n",
       "c0d9adafad7d140a         []        COMPLETED           5.058307      1  \n",
       "e94a30fd72597c3e         []        COMPLETED           3.671270      1  "
      ]
     },
     "execution_count": 19,
     "metadata": {},
     "output_type": "execute_result"
    }
   ],
   "source": [
    "with suppress_tracing():\n",
    "    clarity_eval = llm_classify(\n",
    "        dataframe = clarity_df,\n",
    "        template = CLARITY_LLM_JUDGE_PROMPT,\n",
    "        rails = ['clear', 'unclear'],\n",
    "        model=OpenAIModel(model=\"gpt-4o\"),\n",
    "        provide_explanation=True\n",
    "    )\n",
    "\n",
    "clarity_eval['score'] = clarity_eval.apply(lambda x: 1 if x['label']=='clear' else 0, axis=1)\n",
    "\n",
    "clarity_eval.head()"
   ]
  },
  {
   "cell_type": "code",
   "execution_count": 20,
   "id": "17bd9a2d",
   "metadata": {},
   "outputs": [],
   "source": [
    "px.Client().log_evaluations(\n",
    "    SpanEvaluations(eval_name=\"Response Clarity\", dataframe=clarity_eval),\n",
    ")"
   ]
  },
  {
   "cell_type": "markdown",
   "id": "916d7609",
   "metadata": {},
   "source": [
    "Evaluating SQL Code generation (Tool 1  - Database Lookup Evals)"
   ]
  },
  {
   "cell_type": "code",
   "execution_count": 21,
   "id": "4bbb65cf",
   "metadata": {},
   "outputs": [],
   "source": [
    "SQL_EVAL_GEN_PROMPT = \"\"\"\n",
    "SQL Evaluation Prompt:\n",
    "-----------------------\n",
    "You are tasked with determining if the SQL generated appropiately answers a given instruction\n",
    "taking into account its generated query and response.\n",
    "\n",
    "Data:\n",
    "-----\n",
    "- [Instruction]: {question}\n",
    "  This section contains the specific task or problem that the sql query is intended to solve.\n",
    "\n",
    "- [Reference Query]: {query_gen}\n",
    "  This is the sql query submitted for evaluation. Analyze it in the context of the provided\n",
    "  instruction.\n",
    "\n",
    "Evaluation:\n",
    "-----------\n",
    "Your response should be a single word: either \"correct\" or \"incorrect\".\n",
    "You must assume that the db exists and that columns are appropiately named.\n",
    "You must take into account the response as additional information to determine the correctness.\n",
    "\n",
    "- \"correct\" indicates that the sql query correctly solves the instruction.\n",
    "- \"incorrect\" indicates that the sql query correctly does not solve the instruction correctly.\n",
    "\n",
    "Note: Your response should contain only the word \"correct\" or \"incorrect\" with no additional text\n",
    "or characters.\n",
    "\"\"\""
   ]
  },
  {
   "cell_type": "code",
   "execution_count": 22,
   "id": "b89625c2",
   "metadata": {},
   "outputs": [
    {
     "data": {
      "text/html": [
       "<div>\n",
       "<style scoped>\n",
       "    .dataframe tbody tr th:only-of-type {\n",
       "        vertical-align: middle;\n",
       "    }\n",
       "\n",
       "    .dataframe tbody tr th {\n",
       "        vertical-align: top;\n",
       "    }\n",
       "\n",
       "    .dataframe thead th {\n",
       "        text-align: right;\n",
       "    }\n",
       "</style>\n",
       "<table border=\"1\" class=\"dataframe\">\n",
       "  <thead>\n",
       "    <tr style=\"text-align: right;\">\n",
       "      <th></th>\n",
       "      <th>query_gen</th>\n",
       "      <th>question</th>\n",
       "    </tr>\n",
       "    <tr>\n",
       "      <th>context.span_id</th>\n",
       "      <th></th>\n",
       "      <th></th>\n",
       "    </tr>\n",
       "  </thead>\n",
       "  <tbody>\n",
       "    <tr>\n",
       "      <th>af9f3bc26aeda1d1</th>\n",
       "      <td>[{'message': {'content': '```sql\n",
       "SELECT SKU_Co...</td>\n",
       "      <td>{\"messages\": [{\"role\": \"user\", \"content\": \"\\\"\\...</td>\n",
       "    </tr>\n",
       "    <tr>\n",
       "      <th>c784aeb3b5f63d94</th>\n",
       "      <td>[{'message': {'content': '```sql\n",
       "SELECT SUM(To...</td>\n",
       "      <td>{\"messages\": [{\"role\": \"user\", \"content\": \"\\\"\\...</td>\n",
       "    </tr>\n",
       "    <tr>\n",
       "      <th>4a6281d11520f7c7</th>\n",
       "      <td>[{'message': {'content': '```sql\n",
       "SELECT Store_...</td>\n",
       "      <td>{\"messages\": [{\"role\": \"user\", \"content\": \"\\\"\\...</td>\n",
       "    </tr>\n",
       "    <tr>\n",
       "      <th>76d6a9eefed296fb</th>\n",
       "      <td>[{'message': {'content': '```sql\n",
       "SELECT Store_...</td>\n",
       "      <td>{\"messages\": [{\"role\": \"user\", \"content\": \"\\\"\\...</td>\n",
       "    </tr>\n",
       "    <tr>\n",
       "      <th>e20e76141e11c1d3</th>\n",
       "      <td>[{'message': {'content': '```sql\n",
       "SELECT \n",
       "    (...</td>\n",
       "      <td>{\"messages\": [{\"role\": \"user\", \"content\": \"\\\"\\...</td>\n",
       "    </tr>\n",
       "  </tbody>\n",
       "</table>\n",
       "</div>"
      ],
      "text/plain": [
       "                                                          query_gen  \\\n",
       "context.span_id                                                       \n",
       "af9f3bc26aeda1d1  [{'message': {'content': '```sql\n",
       "SELECT SKU_Co...   \n",
       "c784aeb3b5f63d94  [{'message': {'content': '```sql\n",
       "SELECT SUM(To...   \n",
       "4a6281d11520f7c7  [{'message': {'content': '```sql\n",
       "SELECT Store_...   \n",
       "76d6a9eefed296fb  [{'message': {'content': '```sql\n",
       "SELECT Store_...   \n",
       "e20e76141e11c1d3  [{'message': {'content': '```sql\n",
       "SELECT \n",
       "    (...   \n",
       "\n",
       "                                                           question  \n",
       "context.span_id                                                      \n",
       "af9f3bc26aeda1d1  {\"messages\": [{\"role\": \"user\", \"content\": \"\\\"\\...  \n",
       "c784aeb3b5f63d94  {\"messages\": [{\"role\": \"user\", \"content\": \"\\\"\\...  \n",
       "4a6281d11520f7c7  {\"messages\": [{\"role\": \"user\", \"content\": \"\\\"\\...  \n",
       "76d6a9eefed296fb  {\"messages\": [{\"role\": \"user\", \"content\": \"\\\"\\...  \n",
       "e20e76141e11c1d3  {\"messages\": [{\"role\": \"user\", \"content\": \"\\\"\\...  "
      ]
     },
     "execution_count": 22,
     "metadata": {},
     "output_type": "execute_result"
    }
   ],
   "source": [
    "query = SpanQuery().where(\n",
    "    \"span_kind=='LLM'\"\n",
    ").select(\n",
    "    query_gen=\"llm.output_messages\",\n",
    "    question=\"input.value\",\n",
    ")\n",
    "\n",
    "# The Phoenix Client can take this query and return the dataframe.\n",
    "sql_df = px.Client().query_spans(query, \n",
    "                                 project_name=PROJECT_NAME,\n",
    "                                 timeout=None)\n",
    "sql_df = sql_df[sql_df[\"question\"].str.contains(\"Generate an SQL query based on a prompt.\", na=False)]\n",
    "\n",
    "sql_df.head()"
   ]
  },
  {
   "cell_type": "code",
   "execution_count": 23,
   "id": "a4b23dd6",
   "metadata": {},
   "outputs": [
    {
     "name": "stderr",
     "output_type": "stream",
     "text": [
      "llm_classify |██████████| 6/6 (100.0%) | ⏳ 00:04<00:00 |  1.43it/s\n"
     ]
    },
    {
     "data": {
      "text/html": [
       "<div>\n",
       "<style scoped>\n",
       "    .dataframe tbody tr th:only-of-type {\n",
       "        vertical-align: middle;\n",
       "    }\n",
       "\n",
       "    .dataframe tbody tr th {\n",
       "        vertical-align: top;\n",
       "    }\n",
       "\n",
       "    .dataframe thead th {\n",
       "        text-align: right;\n",
       "    }\n",
       "</style>\n",
       "<table border=\"1\" class=\"dataframe\">\n",
       "  <thead>\n",
       "    <tr style=\"text-align: right;\">\n",
       "      <th></th>\n",
       "      <th>label</th>\n",
       "      <th>explanation</th>\n",
       "      <th>exceptions</th>\n",
       "      <th>execution_status</th>\n",
       "      <th>execution_seconds</th>\n",
       "      <th>score</th>\n",
       "    </tr>\n",
       "    <tr>\n",
       "      <th>context.span_id</th>\n",
       "      <th></th>\n",
       "      <th></th>\n",
       "      <th></th>\n",
       "      <th></th>\n",
       "      <th></th>\n",
       "      <th></th>\n",
       "    </tr>\n",
       "  </thead>\n",
       "  <tbody>\n",
       "    <tr>\n",
       "      <th>af9f3bc26aeda1d1</th>\n",
       "      <td>correct</td>\n",
       "      <td>The query correctly identifies the most popula...</td>\n",
       "      <td>[]</td>\n",
       "      <td>COMPLETED</td>\n",
       "      <td>2.683651</td>\n",
       "      <td>1</td>\n",
       "    </tr>\n",
       "    <tr>\n",
       "      <th>c784aeb3b5f63d94</th>\n",
       "      <td>correct</td>\n",
       "      <td>The SQL query provided is correct because it c...</td>\n",
       "      <td>[]</td>\n",
       "      <td>COMPLETED</td>\n",
       "      <td>2.501690</td>\n",
       "      <td>1</td>\n",
       "    </tr>\n",
       "    <tr>\n",
       "      <th>4a6281d11520f7c7</th>\n",
       "      <td>correct</td>\n",
       "      <td>The SQL query provided correctly calculates th...</td>\n",
       "      <td>[]</td>\n",
       "      <td>COMPLETED</td>\n",
       "      <td>1.872147</td>\n",
       "      <td>1</td>\n",
       "    </tr>\n",
       "    <tr>\n",
       "      <th>76d6a9eefed296fb</th>\n",
       "      <td>correct</td>\n",
       "      <td>The SQL query provided correctly selects the '...</td>\n",
       "      <td>[]</td>\n",
       "      <td>COMPLETED</td>\n",
       "      <td>2.909589</td>\n",
       "      <td>1</td>\n",
       "    </tr>\n",
       "    <tr>\n",
       "      <th>e20e76141e11c1d3</th>\n",
       "      <td>correct</td>\n",
       "      <td>The SQL query calculates the percentage of ite...</td>\n",
       "      <td>[]</td>\n",
       "      <td>COMPLETED</td>\n",
       "      <td>3.171791</td>\n",
       "      <td>1</td>\n",
       "    </tr>\n",
       "  </tbody>\n",
       "</table>\n",
       "</div>"
      ],
      "text/plain": [
       "                    label                                        explanation  \\\n",
       "context.span_id                                                                \n",
       "af9f3bc26aeda1d1  correct  The query correctly identifies the most popula...   \n",
       "c784aeb3b5f63d94  correct  The SQL query provided is correct because it c...   \n",
       "4a6281d11520f7c7  correct  The SQL query provided correctly calculates th...   \n",
       "76d6a9eefed296fb  correct  The SQL query provided correctly selects the '...   \n",
       "e20e76141e11c1d3  correct  The SQL query calculates the percentage of ite...   \n",
       "\n",
       "                 exceptions execution_status  execution_seconds  score  \n",
       "context.span_id                                                         \n",
       "af9f3bc26aeda1d1         []        COMPLETED           2.683651      1  \n",
       "c784aeb3b5f63d94         []        COMPLETED           2.501690      1  \n",
       "4a6281d11520f7c7         []        COMPLETED           1.872147      1  \n",
       "76d6a9eefed296fb         []        COMPLETED           2.909589      1  \n",
       "e20e76141e11c1d3         []        COMPLETED           3.171791      1  "
      ]
     },
     "execution_count": 23,
     "metadata": {},
     "output_type": "execute_result"
    }
   ],
   "source": [
    "with suppress_tracing():\n",
    "    sql_gen_eval = llm_classify(\n",
    "        dataframe = sql_df,\n",
    "        template = SQL_EVAL_GEN_PROMPT,\n",
    "        rails = ['correct', 'incorrect'],\n",
    "        model=OpenAIModel(model=\"gpt-4o\"),\n",
    "        provide_explanation=True\n",
    "    )\n",
    "\n",
    "sql_gen_eval['score'] = sql_gen_eval.apply(lambda x: 1 if x['label']=='correct' else 0, axis=1)\n",
    "\n",
    "sql_gen_eval.head()"
   ]
  },
  {
   "cell_type": "code",
   "execution_count": 24,
   "id": "a7983f8e",
   "metadata": {},
   "outputs": [],
   "source": [
    "px.Client().log_evaluations(\n",
    "    SpanEvaluations(eval_name=\"SQL Gen Eval\", dataframe=sql_gen_eval),\n",
    ")"
   ]
  }
 ],
 "metadata": {
  "kernelspec": {
   "display_name": "venv",
   "language": "python",
   "name": "python3"
  },
  "language_info": {
   "codemirror_mode": {
    "name": "ipython",
    "version": 3
   },
   "file_extension": ".py",
   "mimetype": "text/x-python",
   "name": "python",
   "nbconvert_exporter": "python",
   "pygments_lexer": "ipython3",
   "version": "3.11.13"
  }
 },
 "nbformat": 4,
 "nbformat_minor": 5
}
