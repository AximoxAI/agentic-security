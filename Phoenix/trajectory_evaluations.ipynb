{
 "cells": [
  {
   "cell_type": "code",
   "execution_count": 1,
   "id": "d074812c",
   "metadata": {},
   "outputs": [],
   "source": [
    "import warnings\n",
    "warnings.filterwarnings('ignore')"
   ]
  },
  {
   "cell_type": "code",
   "execution_count": 2,
   "id": "4c55df3f",
   "metadata": {},
   "outputs": [],
   "source": [
    "import phoenix as px\n",
    "from phoenix.evals import OpenAIModel\n",
    "from phoenix.experiments import run_experiment, evaluate_experiment\n",
    "from phoenix.experiments.types import Example\n",
    "from phoenix.experiments.evaluators import create_evaluator\n",
    "from phoenix.otel import register\n",
    "import pandas as pd\n",
    "from datetime import datetime\n",
    "import os\n",
    "import nest_asyncio\n",
    "nest_asyncio.apply()"
   ]
  },
  {
   "cell_type": "code",
   "execution_count": 3,
   "id": "6796a1a9",
   "metadata": {},
   "outputs": [
    {
     "name": "stdout",
     "output_type": "stream",
     "text": [
      "🔭 OpenTelemetry Tracing Details 🔭\n",
      "|  Phoenix Project: evaluating-agent-path\n",
      "|  Span Processor: SimpleSpanProcessor\n",
      "|  Collector Endpoint: http://localhost:6006/v1/traces\n",
      "|  Transport: HTTP + protobuf\n",
      "|  Transport Headers: {}\n",
      "|  \n",
      "|  Using a default SpanProcessor. `add_span_processor` will overwrite this default.\n",
      "|  \n",
      "|  `register` has set this TracerProvider as the global OpenTelemetry default.\n",
      "|  To disable this behavior, call `register` with `set_global_tracer_provider=False`.\n",
      "\n"
     ]
    }
   ],
   "source": [
    "from utils2 import run_agent\n",
    "from helper import get_phoenix_endpoint"
   ]
  },
  {
   "cell_type": "code",
   "execution_count": 4,
   "id": "cbaff9a5",
   "metadata": {},
   "outputs": [],
   "source": [
    "px_client = px.Client()"
   ]
  },
  {
   "cell_type": "code",
   "execution_count": 5,
   "id": "b51ccbbc",
   "metadata": {},
   "outputs": [
    {
     "name": "stdout",
     "output_type": "stream",
     "text": [
      "📤 Uploading dataset...\n",
      "💾 Examples uploaded: http://127.0.0.1:6006/datasets/RGF0YXNldDox/examples\n",
      "🗄️ Dataset version ID: RGF0YXNldFZlcnNpb246MQ==\n"
     ]
    }
   ],
   "source": [
    "convergence_questions = [\n",
    "    \"What was the average quantity sold per transaction?\",\n",
    "    \"What is the mean number of items per sale?\", \n",
    "    \"Calculate the typical quantity per transaction\",\n",
    "    \"What's the mean transaction size in terms of quantity?\",\n",
    "    \"On average, how many items were purchased per transaction?\",\n",
    "    \"What is the average basket size per sale?\",\n",
    "    \"Calculate the mean number of products per purchase\",\n",
    "    \"What's the typical number of units per order?\",\n",
    "    \"What is the average number of products bought per purchase?\",\n",
    "    \"Tell me the mean quantity of items in a typical transaction\",\n",
    "    \"How many items does a customer buy on average per transaction?\",\n",
    "    \"What's the usual number of units in each sale?\",\n",
    "    \"What is the typical amount of products per transaction?\",\n",
    "    \"Show the mean number of items customers purchase per visit\",\n",
    "    \"What's the average quantity of units per shopping trip?\",\n",
    "    \"How many products do customers typically buy in one transaction?\",\n",
    "    \"What is the standard basket size in terms of quantity?\"\n",
    "]\n",
    "\n",
    "convergence_df = pd.DataFrame({\n",
    "    'question' : convergence_questions\n",
    "})\n",
    "\n",
    "now = datetime.now().strftime(\"%Y-%m-%d %H:%M:%S\")\n",
    "dataset = px_client.upload_dataset(dataframe=convergence_df , dataset_name=f\"convergence_questions-{now}\" , input_keys=[\"question\"])"
   ]
  },
  {
   "cell_type": "markdown",
   "id": "50d2c7b0",
   "metadata": {},
   "source": [
    "Creating the Task"
   ]
  },
  {
   "cell_type": "code",
   "execution_count": 6,
   "id": "6180f8a6",
   "metadata": {},
   "outputs": [],
   "source": [
    "# helper method to format the output returned by the task\n",
    "def format_message_steps(messages):\n",
    "    \"\"\"\n",
    "    Convert a list of message objects into a readable format that shows the steps taken.\n",
    "\n",
    "    Args:\n",
    "        messages (list): A list of message objects containing role, content, tool calls, etc.\n",
    "\n",
    "    Returns:\n",
    "        str: A readable string showing the steps taken.\n",
    "    \"\"\"\n",
    "    steps = []\n",
    "    for message in messages:\n",
    "        role = message.get(\"role\")\n",
    "        if role == \"user\":\n",
    "            steps.append(f\"User: {message.get('content')}\")\n",
    "        elif role == \"system\":\n",
    "            steps.append(\"System: Provided context\")\n",
    "        elif role == \"assistant\":\n",
    "            if message.get(\"tool_calls\"):\n",
    "                for tool_call in message[\"tool_calls\"]:\n",
    "                    tool_name = tool_call[\"function\"][\"name\"]\n",
    "                    steps.append(f\"Assistant: Called tool '{tool_name}'\")\n",
    "            else:\n",
    "                steps.append(f\"Assistant: {message.get('content')}\")\n",
    "        elif role == \"tool\":\n",
    "            steps.append(f\"Tool response: {message.get('content')}\")\n",
    "    \n",
    "    return \"\\n\".join(steps)"
   ]
  },
  {
   "cell_type": "code",
   "execution_count": 7,
   "id": "b665ac4c",
   "metadata": {},
   "outputs": [],
   "source": [
    "def run_agent_and_track_path(example: Example) -> str:\n",
    "    messages = [{\"role\": \"user\", \"content\": example.input.get(\"question\")}]\n",
    "    ret = run_agent(messages)\n",
    "    return {\"path_length\": len(ret), \"messages\": format_message_steps(ret)}"
   ]
  },
  {
   "cell_type": "markdown",
   "id": "09c31d1d",
   "metadata": {},
   "source": [
    "Running the experiment"
   ]
  },
  {
   "cell_type": "code",
   "execution_count": 8,
   "id": "32ff7843",
   "metadata": {},
   "outputs": [
    {
     "name": "stdout",
     "output_type": "stream",
     "text": [
      "🧪 Experiment started.\n",
      "📺 View dataset experiments: http://127.0.0.1:6006/datasets/RGF0YXNldDox/experiments\n",
      "🔗 View this experiment: http://127.0.0.1:6006/datasets/RGF0YXNldDox/compare?experimentId=RXhwZXJpbWVudDox\n"
     ]
    },
    {
     "name": "stderr",
     "output_type": "stream",
     "text": [
      "running tasks |          | 0/17 (0.0%) | ⏳ 00:00<? | ?it/s"
     ]
    },
    {
     "name": "stdout",
     "output_type": "stream",
     "text": [
      "Running agent with messages: [{'role': 'user', 'content': 'What was the average quantity sold per transaction?'}]\n",
      "Added system prompt to messages\n",
      "Starting router\n",
      "Received response with tool calls: True\n",
      "Processing tool calls\n",
      "Starting router\n",
      "Received response with tool calls: False\n",
      "No tool calls, returning final response\n",
      "Running agent with messages: [{'role': 'user', 'content': 'What is the mean number of items per sale?'}]\n",
      "Added system prompt to messages\n",
      "Starting router\n",
      "Received response with tool calls: True\n",
      "Processing tool calls\n",
      "Starting router\n",
      "Received response with tool calls: False\n",
      "No tool calls, returning final response\n",
      "Running agent with messages: [{'role': 'user', 'content': 'Calculate the typical quantity per transaction'}]\n",
      "Added system prompt to messages\n",
      "Starting router\n",
      "Received response with tool calls: True\n",
      "Processing tool calls\n",
      "Starting router\n"
     ]
    },
    {
     "name": "stderr",
     "output_type": "stream",
     "text": [
      "running tasks |▌         | 1/17 (5.9%) | ⏳ 00:09<02:33 |  9.61s/it"
     ]
    },
    {
     "name": "stdout",
     "output_type": "stream",
     "text": [
      "Received response with tool calls: False\n",
      "No tool calls, returning final response\n",
      "Running agent with messages: [{'role': 'user', 'content': \"What's the mean transaction size in terms of quantity?\"}]\n",
      "Added system prompt to messages\n",
      "Starting router\n",
      "Received response with tool calls: True\n",
      "Processing tool calls\n",
      "Starting router\n",
      "Received response with tool calls: False\n",
      "No tool calls, returning final response\n",
      "Running agent with messages: [{'role': 'user', 'content': 'On average, how many items were purchased per transaction?'}]\n",
      "Added system prompt to messages\n",
      "Starting router\n",
      "Received response with tool calls: True\n",
      "Processing tool calls\n",
      "Starting router\n"
     ]
    },
    {
     "name": "stderr",
     "output_type": "stream",
     "text": [
      "running tasks |█▊        | 3/17 (17.6%) | ⏳ 00:15<01:04 |  4.58s/it"
     ]
    },
    {
     "name": "stdout",
     "output_type": "stream",
     "text": [
      "Received response with tool calls: False\n",
      "No tool calls, returning final response\n",
      "Running agent with messages: [{'role': 'user', 'content': 'What is the average basket size per sale?'}]\n",
      "Added system prompt to messages\n",
      "Starting router\n",
      "Received response with tool calls: True\n",
      "Processing tool calls\n",
      "Starting router\n",
      "Received response with tool calls: False\n",
      "No tool calls, returning final response\n",
      "Running agent with messages: [{'role': 'user', 'content': 'Calculate the mean number of products per purchase'}]\n",
      "Added system prompt to messages\n",
      "Starting router\n",
      "Received response with tool calls: True\n",
      "Processing tool calls\n",
      "Starting router\n"
     ]
    },
    {
     "name": "stderr",
     "output_type": "stream",
     "text": [
      "running tasks |██▉       | 5/17 (29.4%) | ⏳ 00:20<00:44 |  3.67s/it"
     ]
    },
    {
     "name": "stdout",
     "output_type": "stream",
     "text": [
      "Received response with tool calls: False\n",
      "No tool calls, returning final response\n",
      "Running agent with messages: [{'role': 'user', 'content': \"What's the typical number of units per order?\"}]\n",
      "Added system prompt to messages\n",
      "Starting router\n",
      "Received response with tool calls: True\n",
      "Processing tool calls\n",
      "Starting router\n",
      "Received response with tool calls: False\n",
      "No tool calls, returning final response\n",
      "Running agent with messages: [{'role': 'user', 'content': 'What is the average number of products bought per purchase?'}]\n",
      "Added system prompt to messages\n",
      "Starting router\n",
      "Received response with tool calls: True\n",
      "Processing tool calls\n",
      "Starting router\n"
     ]
    },
    {
     "name": "stderr",
     "output_type": "stream",
     "text": [
      "running tasks |████      | 7/17 (41.2%) | ⏳ 00:27<00:34 |  3.44s/it"
     ]
    },
    {
     "name": "stdout",
     "output_type": "stream",
     "text": [
      "Received response with tool calls: False\n",
      "No tool calls, returning final response\n",
      "Running agent with messages: [{'role': 'user', 'content': 'Tell me the mean quantity of items in a typical transaction'}]\n",
      "Added system prompt to messages\n",
      "Starting router\n",
      "Received response with tool calls: True\n",
      "Processing tool calls\n",
      "Starting router\n",
      "Received response with tool calls: False\n",
      "No tool calls, returning final response\n",
      "Running agent with messages: [{'role': 'user', 'content': 'How many items does a customer buy on average per transaction?'}]\n",
      "Added system prompt to messages\n",
      "Starting router\n",
      "Received response with tool calls: True\n",
      "Processing tool calls\n",
      "Starting router\n"
     ]
    },
    {
     "name": "stderr",
     "output_type": "stream",
     "text": [
      "running tasks |█████▎    | 9/17 (52.9%) | ⏳ 00:33<00:26 |  3.26s/it"
     ]
    },
    {
     "name": "stdout",
     "output_type": "stream",
     "text": [
      "Received response with tool calls: False\n",
      "No tool calls, returning final response\n",
      "Running agent with messages: [{'role': 'user', 'content': \"What's the usual number of units in each sale?\"}]\n",
      "Added system prompt to messages\n",
      "Starting router\n",
      "Received response with tool calls: True\n",
      "Processing tool calls\n",
      "Starting router\n",
      "Received response with tool calls: False\n",
      "No tool calls, returning final response\n",
      "Running agent with messages: [{'role': 'user', 'content': 'What is the typical amount of products per transaction?'}]\n",
      "Added system prompt to messages\n",
      "Starting router\n",
      "Received response with tool calls: True\n",
      "Processing tool calls\n",
      "Starting router\n"
     ]
    },
    {
     "name": "stderr",
     "output_type": "stream",
     "text": [
      "running tasks |██████▍   | 11/17 (64.7%) | ⏳ 00:38<00:18 |  3.02s/it"
     ]
    },
    {
     "name": "stdout",
     "output_type": "stream",
     "text": [
      "Received response with tool calls: False\n",
      "No tool calls, returning final response\n",
      "Running agent with messages: [{'role': 'user', 'content': 'Show the mean number of items customers purchase per visit'}]\n",
      "Added system prompt to messages\n",
      "Starting router\n",
      "Received response with tool calls: True\n",
      "Processing tool calls\n",
      "Starting router\n",
      "Received response with tool calls: False\n",
      "No tool calls, returning final response\n",
      "Running agent with messages: [{'role': 'user', 'content': \"What's the average quantity of units per shopping trip?\"}]\n",
      "Added system prompt to messages\n",
      "Starting router\n",
      "Received response with tool calls: True\n",
      "Processing tool calls\n",
      "Starting router\n",
      "Received response with tool calls: True\n",
      "Processing tool calls\n",
      "Starting router\n"
     ]
    },
    {
     "name": "stderr",
     "output_type": "stream",
     "text": [
      "running tasks |███████▋  | 13/17 (76.5%) | ⏳ 00:45<00:12 |  3.23s/it"
     ]
    },
    {
     "name": "stdout",
     "output_type": "stream",
     "text": [
      "Received response with tool calls: False\n",
      "No tool calls, returning final response\n",
      "Running agent with messages: [{'role': 'user', 'content': 'How many products do customers typically buy in one transaction?'}]\n",
      "Added system prompt to messages\n",
      "Starting router\n",
      "Received response with tool calls: True\n",
      "Processing tool calls\n",
      "Starting router\n",
      "Received response with tool calls: False\n",
      "No tool calls, returning final response\n",
      "Running agent with messages: [{'role': 'user', 'content': 'What is the standard basket size in terms of quantity?'}]\n",
      "Added system prompt to messages\n",
      "Starting router\n",
      "Received response with tool calls: True\n",
      "Processing tool calls\n",
      "Starting router\n",
      "Received response with tool calls: True\n",
      "Processing tool calls\n",
      "Starting router\n"
     ]
    },
    {
     "name": "stderr",
     "output_type": "stream",
     "text": [
      "running tasks |████████▊ | 15/17 (88.2%) | ⏳ 00:53<00:06 |  3.45s/it"
     ]
    },
    {
     "name": "stdout",
     "output_type": "stream",
     "text": [
      "Received response with tool calls: False\n",
      "No tool calls, returning final response\n"
     ]
    },
    {
     "name": "stderr",
     "output_type": "stream",
     "text": [
      "running tasks |██████████| 17/17 (100.0%) | ⏳ 00:54<00:00 |  3.20s/it"
     ]
    },
    {
     "name": "stdout",
     "output_type": "stream",
     "text": [
      "✅ Task runs completed.\n",
      "\n",
      "🔗 View this experiment: http://127.0.0.1:6006/datasets/RGF0YXNldDox/compare?experimentId=RXhwZXJpbWVudDox\n",
      "\n",
      "Tasks Summary (07/09/25 09:51 PM +0530)\n",
      "---------------------------------------\n",
      "   n_examples  n_runs  n_errors\n",
      "0          17      17         0\n"
     ]
    },
    {
     "name": "stderr",
     "output_type": "stream",
     "text": [
      "\n"
     ]
    }
   ],
   "source": [
    "experiment = run_experiment(dataset , run_agent_and_track_path , experiment_name=\"convergence Eval\",experiment_description=\"Evaluating the convergence of an agent\")"
   ]
  },
  {
   "cell_type": "code",
   "execution_count": 9,
   "id": "9cd0b06a",
   "metadata": {},
   "outputs": [
    {
     "data": {
      "text/html": [
       "<div>\n",
       "<style scoped>\n",
       "    .dataframe tbody tr th:only-of-type {\n",
       "        vertical-align: middle;\n",
       "    }\n",
       "\n",
       "    .dataframe tbody tr th {\n",
       "        vertical-align: top;\n",
       "    }\n",
       "\n",
       "    .dataframe thead th {\n",
       "        text-align: right;\n",
       "    }\n",
       "</style>\n",
       "<table border=\"1\" class=\"dataframe\">\n",
       "  <thead>\n",
       "    <tr style=\"text-align: right;\">\n",
       "      <th></th>\n",
       "      <th>output</th>\n",
       "      <th>input</th>\n",
       "      <th>example_id</th>\n",
       "    </tr>\n",
       "    <tr>\n",
       "      <th>run_id</th>\n",
       "      <th></th>\n",
       "      <th></th>\n",
       "      <th></th>\n",
       "    </tr>\n",
       "  </thead>\n",
       "  <tbody>\n",
       "    <tr>\n",
       "      <th>RXhwZXJpbWVudFJ1bjox</th>\n",
       "      <td>{'path_length': 5, 'messages': 'User: What was...</td>\n",
       "      <td>{'question': 'What was the average quantity so...</td>\n",
       "      <td>RGF0YXNldEV4YW1wbGU6MQ==</td>\n",
       "    </tr>\n",
       "    <tr>\n",
       "      <th>RXhwZXJpbWVudFJ1bjoy</th>\n",
       "      <td>{'path_length': 5, 'messages': 'User: What is ...</td>\n",
       "      <td>{'question': 'What is the mean number of items...</td>\n",
       "      <td>RGF0YXNldEV4YW1wbGU6Mg==</td>\n",
       "    </tr>\n",
       "    <tr>\n",
       "      <th>RXhwZXJpbWVudFJ1bjoz</th>\n",
       "      <td>{'path_length': 5, 'messages': 'User: Calculat...</td>\n",
       "      <td>{'question': 'Calculate the typical quantity p...</td>\n",
       "      <td>RGF0YXNldEV4YW1wbGU6Mw==</td>\n",
       "    </tr>\n",
       "    <tr>\n",
       "      <th>RXhwZXJpbWVudFJ1bjo0</th>\n",
       "      <td>{'path_length': 5, 'messages': 'User: What's t...</td>\n",
       "      <td>{'question': 'What's the mean transaction size...</td>\n",
       "      <td>RGF0YXNldEV4YW1wbGU6NA==</td>\n",
       "    </tr>\n",
       "    <tr>\n",
       "      <th>RXhwZXJpbWVudFJ1bjo1</th>\n",
       "      <td>{'path_length': 5, 'messages': 'User: On avera...</td>\n",
       "      <td>{'question': 'On average, how many items were ...</td>\n",
       "      <td>RGF0YXNldEV4YW1wbGU6NQ==</td>\n",
       "    </tr>\n",
       "    <tr>\n",
       "      <th>RXhwZXJpbWVudFJ1bjo2</th>\n",
       "      <td>{'path_length': 5, 'messages': 'User: What is ...</td>\n",
       "      <td>{'question': 'What is the average basket size ...</td>\n",
       "      <td>RGF0YXNldEV4YW1wbGU6Ng==</td>\n",
       "    </tr>\n",
       "    <tr>\n",
       "      <th>RXhwZXJpbWVudFJ1bjo3</th>\n",
       "      <td>{'path_length': 5, 'messages': 'User: Calculat...</td>\n",
       "      <td>{'question': 'Calculate the mean number of pro...</td>\n",
       "      <td>RGF0YXNldEV4YW1wbGU6Nw==</td>\n",
       "    </tr>\n",
       "    <tr>\n",
       "      <th>RXhwZXJpbWVudFJ1bjo4</th>\n",
       "      <td>{'path_length': 5, 'messages': 'User: What's t...</td>\n",
       "      <td>{'question': 'What's the typical number of uni...</td>\n",
       "      <td>RGF0YXNldEV4YW1wbGU6OA==</td>\n",
       "    </tr>\n",
       "    <tr>\n",
       "      <th>RXhwZXJpbWVudFJ1bjo5</th>\n",
       "      <td>{'path_length': 5, 'messages': 'User: What is ...</td>\n",
       "      <td>{'question': 'What is the average number of pr...</td>\n",
       "      <td>RGF0YXNldEV4YW1wbGU6OQ==</td>\n",
       "    </tr>\n",
       "    <tr>\n",
       "      <th>RXhwZXJpbWVudFJ1bjoxMA==</th>\n",
       "      <td>{'path_length': 5, 'messages': 'User: Tell me ...</td>\n",
       "      <td>{'question': 'Tell me the mean quantity of ite...</td>\n",
       "      <td>RGF0YXNldEV4YW1wbGU6MTA=</td>\n",
       "    </tr>\n",
       "    <tr>\n",
       "      <th>RXhwZXJpbWVudFJ1bjoxMQ==</th>\n",
       "      <td>{'path_length': 5, 'messages': 'User: How many...</td>\n",
       "      <td>{'question': 'How many items does a customer b...</td>\n",
       "      <td>RGF0YXNldEV4YW1wbGU6MTE=</td>\n",
       "    </tr>\n",
       "    <tr>\n",
       "      <th>RXhwZXJpbWVudFJ1bjoxMg==</th>\n",
       "      <td>{'path_length': 5, 'messages': 'User: What's t...</td>\n",
       "      <td>{'question': 'What's the usual number of units...</td>\n",
       "      <td>RGF0YXNldEV4YW1wbGU6MTI=</td>\n",
       "    </tr>\n",
       "    <tr>\n",
       "      <th>RXhwZXJpbWVudFJ1bjoxMw==</th>\n",
       "      <td>{'path_length': 5, 'messages': 'User: What is ...</td>\n",
       "      <td>{'question': 'What is the typical amount of pr...</td>\n",
       "      <td>RGF0YXNldEV4YW1wbGU6MTM=</td>\n",
       "    </tr>\n",
       "    <tr>\n",
       "      <th>RXhwZXJpbWVudFJ1bjoxNA==</th>\n",
       "      <td>{'path_length': 5, 'messages': 'User: Show the...</td>\n",
       "      <td>{'question': 'Show the mean number of items cu...</td>\n",
       "      <td>RGF0YXNldEV4YW1wbGU6MTQ=</td>\n",
       "    </tr>\n",
       "    <tr>\n",
       "      <th>RXhwZXJpbWVudFJ1bjoxNQ==</th>\n",
       "      <td>{'path_length': 7, 'messages': 'User: What's t...</td>\n",
       "      <td>{'question': 'What's the average quantity of u...</td>\n",
       "      <td>RGF0YXNldEV4YW1wbGU6MTU=</td>\n",
       "    </tr>\n",
       "    <tr>\n",
       "      <th>RXhwZXJpbWVudFJ1bjoxNg==</th>\n",
       "      <td>{'path_length': 5, 'messages': 'User: How many...</td>\n",
       "      <td>{'question': 'How many products do customers t...</td>\n",
       "      <td>RGF0YXNldEV4YW1wbGU6MTY=</td>\n",
       "    </tr>\n",
       "    <tr>\n",
       "      <th>RXhwZXJpbWVudFJ1bjoxNw==</th>\n",
       "      <td>{'path_length': 7, 'messages': 'User: What is ...</td>\n",
       "      <td>{'question': 'What is the standard basket size...</td>\n",
       "      <td>RGF0YXNldEV4YW1wbGU6MTc=</td>\n",
       "    </tr>\n",
       "  </tbody>\n",
       "</table>\n",
       "</div>"
      ],
      "text/plain": [
       "                                                                     output  \\\n",
       "run_id                                                                        \n",
       "RXhwZXJpbWVudFJ1bjox      {'path_length': 5, 'messages': 'User: What was...   \n",
       "RXhwZXJpbWVudFJ1bjoy      {'path_length': 5, 'messages': 'User: What is ...   \n",
       "RXhwZXJpbWVudFJ1bjoz      {'path_length': 5, 'messages': 'User: Calculat...   \n",
       "RXhwZXJpbWVudFJ1bjo0      {'path_length': 5, 'messages': 'User: What's t...   \n",
       "RXhwZXJpbWVudFJ1bjo1      {'path_length': 5, 'messages': 'User: On avera...   \n",
       "RXhwZXJpbWVudFJ1bjo2      {'path_length': 5, 'messages': 'User: What is ...   \n",
       "RXhwZXJpbWVudFJ1bjo3      {'path_length': 5, 'messages': 'User: Calculat...   \n",
       "RXhwZXJpbWVudFJ1bjo4      {'path_length': 5, 'messages': 'User: What's t...   \n",
       "RXhwZXJpbWVudFJ1bjo5      {'path_length': 5, 'messages': 'User: What is ...   \n",
       "RXhwZXJpbWVudFJ1bjoxMA==  {'path_length': 5, 'messages': 'User: Tell me ...   \n",
       "RXhwZXJpbWVudFJ1bjoxMQ==  {'path_length': 5, 'messages': 'User: How many...   \n",
       "RXhwZXJpbWVudFJ1bjoxMg==  {'path_length': 5, 'messages': 'User: What's t...   \n",
       "RXhwZXJpbWVudFJ1bjoxMw==  {'path_length': 5, 'messages': 'User: What is ...   \n",
       "RXhwZXJpbWVudFJ1bjoxNA==  {'path_length': 5, 'messages': 'User: Show the...   \n",
       "RXhwZXJpbWVudFJ1bjoxNQ==  {'path_length': 7, 'messages': 'User: What's t...   \n",
       "RXhwZXJpbWVudFJ1bjoxNg==  {'path_length': 5, 'messages': 'User: How many...   \n",
       "RXhwZXJpbWVudFJ1bjoxNw==  {'path_length': 7, 'messages': 'User: What is ...   \n",
       "\n",
       "                                                                      input  \\\n",
       "run_id                                                                        \n",
       "RXhwZXJpbWVudFJ1bjox      {'question': 'What was the average quantity so...   \n",
       "RXhwZXJpbWVudFJ1bjoy      {'question': 'What is the mean number of items...   \n",
       "RXhwZXJpbWVudFJ1bjoz      {'question': 'Calculate the typical quantity p...   \n",
       "RXhwZXJpbWVudFJ1bjo0      {'question': 'What's the mean transaction size...   \n",
       "RXhwZXJpbWVudFJ1bjo1      {'question': 'On average, how many items were ...   \n",
       "RXhwZXJpbWVudFJ1bjo2      {'question': 'What is the average basket size ...   \n",
       "RXhwZXJpbWVudFJ1bjo3      {'question': 'Calculate the mean number of pro...   \n",
       "RXhwZXJpbWVudFJ1bjo4      {'question': 'What's the typical number of uni...   \n",
       "RXhwZXJpbWVudFJ1bjo5      {'question': 'What is the average number of pr...   \n",
       "RXhwZXJpbWVudFJ1bjoxMA==  {'question': 'Tell me the mean quantity of ite...   \n",
       "RXhwZXJpbWVudFJ1bjoxMQ==  {'question': 'How many items does a customer b...   \n",
       "RXhwZXJpbWVudFJ1bjoxMg==  {'question': 'What's the usual number of units...   \n",
       "RXhwZXJpbWVudFJ1bjoxMw==  {'question': 'What is the typical amount of pr...   \n",
       "RXhwZXJpbWVudFJ1bjoxNA==  {'question': 'Show the mean number of items cu...   \n",
       "RXhwZXJpbWVudFJ1bjoxNQ==  {'question': 'What's the average quantity of u...   \n",
       "RXhwZXJpbWVudFJ1bjoxNg==  {'question': 'How many products do customers t...   \n",
       "RXhwZXJpbWVudFJ1bjoxNw==  {'question': 'What is the standard basket size...   \n",
       "\n",
       "                                        example_id  \n",
       "run_id                                              \n",
       "RXhwZXJpbWVudFJ1bjox      RGF0YXNldEV4YW1wbGU6MQ==  \n",
       "RXhwZXJpbWVudFJ1bjoy      RGF0YXNldEV4YW1wbGU6Mg==  \n",
       "RXhwZXJpbWVudFJ1bjoz      RGF0YXNldEV4YW1wbGU6Mw==  \n",
       "RXhwZXJpbWVudFJ1bjo0      RGF0YXNldEV4YW1wbGU6NA==  \n",
       "RXhwZXJpbWVudFJ1bjo1      RGF0YXNldEV4YW1wbGU6NQ==  \n",
       "RXhwZXJpbWVudFJ1bjo2      RGF0YXNldEV4YW1wbGU6Ng==  \n",
       "RXhwZXJpbWVudFJ1bjo3      RGF0YXNldEV4YW1wbGU6Nw==  \n",
       "RXhwZXJpbWVudFJ1bjo4      RGF0YXNldEV4YW1wbGU6OA==  \n",
       "RXhwZXJpbWVudFJ1bjo5      RGF0YXNldEV4YW1wbGU6OQ==  \n",
       "RXhwZXJpbWVudFJ1bjoxMA==  RGF0YXNldEV4YW1wbGU6MTA=  \n",
       "RXhwZXJpbWVudFJ1bjoxMQ==  RGF0YXNldEV4YW1wbGU6MTE=  \n",
       "RXhwZXJpbWVudFJ1bjoxMg==  RGF0YXNldEV4YW1wbGU6MTI=  \n",
       "RXhwZXJpbWVudFJ1bjoxMw==  RGF0YXNldEV4YW1wbGU6MTM=  \n",
       "RXhwZXJpbWVudFJ1bjoxNA==  RGF0YXNldEV4YW1wbGU6MTQ=  \n",
       "RXhwZXJpbWVudFJ1bjoxNQ==  RGF0YXNldEV4YW1wbGU6MTU=  \n",
       "RXhwZXJpbWVudFJ1bjoxNg==  RGF0YXNldEV4YW1wbGU6MTY=  \n",
       "RXhwZXJpbWVudFJ1bjoxNw==  RGF0YXNldEV4YW1wbGU6MTc=  "
      ]
     },
     "execution_count": 9,
     "metadata": {},
     "output_type": "execute_result"
    }
   ],
   "source": [
    "experiment.as_dataframe()"
   ]
  },
  {
   "cell_type": "markdown",
   "id": "02dc5cd8",
   "metadata": {},
   "source": [
    "Evaluating the Path"
   ]
  },
  {
   "cell_type": "code",
   "execution_count": 12,
   "id": "af954b3f",
   "metadata": {},
   "outputs": [
    {
     "name": "stdout",
     "output_type": "stream",
     "text": [
      "The optimal path length is 5\n"
     ]
    }
   ],
   "source": [
    "outputs = experiment.as_dataframe()[\"output\"].to_dict().values()\n",
    "\n",
    "#will include the user and system messages\n",
    "optimal_path_length = min(output.get('path_length') for output in outputs if output and output.get('path_length') is not None)\n",
    "print(f\"The optimal path length is {optimal_path_length}\")"
   ]
  },
  {
   "cell_type": "code",
   "execution_count": 13,
   "id": "04d6bde5",
   "metadata": {},
   "outputs": [],
   "source": [
    "@create_evaluator(name= \"Convergence Eval\", kind = \"CODE\")\n",
    "def evaluate_path_length(output:str)->float:\n",
    "    if output and output.get(\"path_length\"):\n",
    "        return optimal_path_length/float(output.get(\"path_length\"))\n",
    "    else :\n",
    "        return 0"
   ]
  },
  {
   "cell_type": "code",
   "execution_count": 14,
   "id": "40f6d1e5",
   "metadata": {},
   "outputs": [
    {
     "name": "stdout",
     "output_type": "stream",
     "text": [
      "🧠 Evaluation started.\n"
     ]
    },
    {
     "name": "stderr",
     "output_type": "stream",
     "text": [
      "running experiment evaluations |██████████| 17/17 (100.0%) | ⏳ 00:02<00:00 |  8.28it/s"
     ]
    },
    {
     "name": "stdout",
     "output_type": "stream",
     "text": [
      "\n",
      "🔗 View this experiment: http://127.0.0.1:6006/datasets/RGF0YXNldDox/compare?experimentId=RXhwZXJpbWVudDox\n",
      "\n",
      "Experiment Summary (07/09/25 09:56 PM +0530)\n",
      "--------------------------------------------\n",
      "          evaluator   n  n_scores  avg_score\n",
      "0  Convergence Eval  17        17   0.966387\n",
      "\n",
      "Tasks Summary (07/09/25 09:51 PM +0530)\n",
      "---------------------------------------\n",
      "   n_examples  n_runs  n_errors\n",
      "0          17      17         0\n"
     ]
    },
    {
     "name": "stderr",
     "output_type": "stream",
     "text": [
      "\n"
     ]
    }
   ],
   "source": [
    "experiment = evaluate_experiment(experiment , evaluators=[evaluate_path_length])"
   ]
  }
 ],
 "metadata": {
  "kernelspec": {
   "display_name": "venv",
   "language": "python",
   "name": "python3"
  },
  "language_info": {
   "codemirror_mode": {
    "name": "ipython",
    "version": 3
   },
   "file_extension": ".py",
   "mimetype": "text/x-python",
   "name": "python",
   "nbconvert_exporter": "python",
   "pygments_lexer": "ipython3",
   "version": "3.11.13"
  }
 },
 "nbformat": 4,
 "nbformat_minor": 5
}
