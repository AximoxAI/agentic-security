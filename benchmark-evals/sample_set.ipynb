{
 "cells": [
  {
   "cell_type": "code",
   "execution_count": null,
   "id": "0196ae4e",
   "metadata": {
    "vscode": {
     "languageId": "plaintext"
    }
   },
   "outputs": [],
   "source": [
    "dataset = load_dataset('princeton-nlp/SWE-bench_Lite', split='test')\n",
    "instance = dataset[0]\n",
    "\n",
    "print(f\"Repository: {instance['repo']}\")\n",
    "print(f\"Instance ID: {instance['instance_id']}\")\n",
    "print(f\"Problem Statement: {instance['problem_statement'][:200]}...\")\n",
    "print(f\"Base Commit: {instance['base_commit']}\")"
   ]
  }
 ],
 "metadata": {
  "language_info": {
   "name": "python"
  }
 },
 "nbformat": 4,
 "nbformat_minor": 5
}
