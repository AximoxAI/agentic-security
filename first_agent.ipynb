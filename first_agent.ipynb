{
 "cells": [
  {
   "cell_type": "code",
   "execution_count": 6,
   "id": "88002890",
   "metadata": {},
   "outputs": [],
   "source": [
    "# pip install llama-index-core llama-index-llms-openai python-dotenv"
   ]
  },
  {
   "cell_type": "code",
   "execution_count": 7,
   "id": "57aaefcc",
   "metadata": {},
   "outputs": [],
   "source": [
    "from dotenv import load_dotenv\n",
    "\n",
    "load_dotenv()\n",
    "\n",
    "from llama_index.llms.openai import OpenAI\n",
    "from llama_index.core.agent.workflow import FunctionAgent"
   ]
  },
  {
   "cell_type": "code",
   "execution_count": 8,
   "id": "9b1d9981",
   "metadata": {},
   "outputs": [],
   "source": [
    "def multiply(a: float,b:float)->float:\n",
    "    return a*b"
   ]
  },
  {
   "cell_type": "code",
   "execution_count": 9,
   "id": "23acdd7c",
   "metadata": {},
   "outputs": [],
   "source": [
    "def add(a:float,b:float)->float:\n",
    "    return a+b"
   ]
  },
  {
   "cell_type": "code",
   "execution_count": 10,
   "id": "bf5c931a",
   "metadata": {},
   "outputs": [],
   "source": [
    "llm = OpenAI(model=\"gpt-4o-mini\")"
   ]
  },
  {
   "cell_type": "code",
   "execution_count": 11,
   "id": "ef6ccc47",
   "metadata": {},
   "outputs": [],
   "source": [
    "# workflow = FunctionAgent(\n",
    "#     tools=[multiply,add],\n",
    "#     llm=llm,\n",
    "#     system_prompt=\"you are an agent that can perform basic maths\"\n",
    "# )"
   ]
  },
  {
   "cell_type": "code",
   "execution_count": 12,
   "id": "9db98d73",
   "metadata": {},
   "outputs": [],
   "source": [
    "# response = await workflow.run(user_msg=\"what is 20+(2*4)\")\n",
    "# print(response)"
   ]
  },
  {
   "cell_type": "code",
   "execution_count": 13,
   "id": "54e4d5f4",
   "metadata": {},
   "outputs": [],
   "source": [
    "# pip install llama-index-tools-yahoo-finance"
   ]
  },
  {
   "cell_type": "code",
   "execution_count": 14,
   "id": "9fbbd929",
   "metadata": {},
   "outputs": [],
   "source": [
    "from llama_index.tools.yahoo_finance import YahooFinanceToolSpec"
   ]
  },
  {
   "cell_type": "code",
   "execution_count": 15,
   "id": "cb2221a9",
   "metadata": {},
   "outputs": [],
   "source": [
    "finance_tools = YahooFinanceToolSpec().to_tool_list"
   ]
  },
  {
   "cell_type": "code",
   "execution_count": 16,
   "id": "763964af",
   "metadata": {},
   "outputs": [],
   "source": [
    "workflow = FunctionAgent(\n",
    "    name=\"Agent\",\n",
    "    description=\"Useful for performing financial operations.\",\n",
    "    llm=OpenAI(model=\"gpt-4o-mini\"),\n",
    "    tools=finance_tools(),\n",
    "    system_prompt=\"You are a helpful assistant.\",\n",
    ")"
   ]
  },
  {
   "cell_type": "code",
   "execution_count": 17,
   "id": "3d36f81b",
   "metadata": {},
   "outputs": [
    {
     "name": "stdout",
     "output_type": "stream",
     "text": [
      "The current stock price of NVIDIA (NVDA) is **$153.30**.\n"
     ]
    }
   ],
   "source": [
    "response = await workflow.run(\n",
    "        user_msg=\"What's the current stock price of NVIDIA?\"\n",
    "    )\n",
    "print(response)"
   ]
  },
  {
   "cell_type": "code",
   "execution_count": 18,
   "id": "36cf740a",
   "metadata": {},
   "outputs": [],
   "source": [
    "from llama_index.core.agent.workflow import AgentWorkflow"
   ]
  },
  {
   "cell_type": "code",
   "execution_count": 19,
   "id": "47490aea",
   "metadata": {},
   "outputs": [],
   "source": [
    "# pip install tavily-python"
   ]
  },
  {
   "cell_type": "code",
   "execution_count": 22,
   "id": "a4561bca",
   "metadata": {},
   "outputs": [],
   "source": [
    "from tavily import AsyncTavilyClient\n",
    "from llama_index.core.workflow import Context\n",
    "\n",
    "\n",
    "async def search_web(query: str) -> str:\n",
    "    \"\"\"Useful for using the web to answer questions.\"\"\"\n",
    "    client = AsyncTavilyClient(api_key=\"tvly_api\")\n",
    "    return str(await client.search(query))\n",
    "\n",
    "\n",
    "async def record_notes(ctx: Context, notes: str, notes_title: str) -> str:\n",
    "    \"\"\"Useful for recording notes on a given topic. Your input should be notes with a title to save the notes under.\"\"\"\n",
    "    current_state = await ctx.store.get(\"state\")\n",
    "    if \"research_notes\" not in current_state:\n",
    "        current_state[\"research_notes\"] = {}\n",
    "    current_state[\"research_notes\"][notes_title] = notes\n",
    "    await ctx.store.set(\"state\", current_state)\n",
    "    return \"Notes recorded.\"\n",
    "\n",
    "\n",
    "async def write_report(ctx: Context, report_content: str) -> str:\n",
    "    \"\"\"Useful for writing a report on a given topic. Your input should be a markdown formatted report.\"\"\"\n",
    "    current_state = await ctx.store.get(\"state\")\n",
    "    current_state[\"report_content\"] = report_content\n",
    "    await ctx.store.set(\"state\", current_state)\n",
    "    return \"Report written.\"\n",
    "\n",
    "\n",
    "async def review_report(ctx: Context, review: str) -> str:\n",
    "    \"\"\"Useful for reviewing a report and providing feedback. Your input should be a review of the report.\"\"\"\n",
    "    current_state = await ctx.store.get(\"state\")\n",
    "    current_state[\"review\"] = review\n",
    "    await ctx.store.set(\"state\", current_state)\n",
    "    return \"Report reviewed.\""
   ]
  },
  {
   "cell_type": "code",
   "execution_count": 23,
   "id": "8cde8550",
   "metadata": {},
   "outputs": [],
   "source": [
    "research_agent = FunctionAgent(\n",
    "    name=\"ResearchAgent\",\n",
    "    description=\"search the web and record notes\",\n",
    "    system_prompt=\"you are a researcher .. hand off to WriteAgent when ready\",\n",
    "    llm = llm,\n",
    "    tools=[search_web , record_notes],\n",
    "    can_handoff_to=[\"WriteAgent\"],\n",
    ")"
   ]
  },
  {
   "cell_type": "code",
   "execution_count": 24,
   "id": "935a4a6d",
   "metadata": {},
   "outputs": [],
   "source": [
    "write_agent = FunctionAgent(\n",
    "    name=\"WriteAgent\",\n",
    "    description=\"Writes a markdown report from the notes.\",\n",
    "    system_prompt=\"You are a writer… ask ReviewAgent for feedback when done.\",\n",
    "    llm=llm,\n",
    "    tools=[write_report],\n",
    "    can_handoff_to=[\"ReviewAgent\", \"ResearchAgent\"],\n",
    ")\n"
   ]
  },
  {
   "cell_type": "code",
   "execution_count": 25,
   "id": "353d60a9",
   "metadata": {},
   "outputs": [],
   "source": [
    "review_agent = FunctionAgent(\n",
    "    name=\"ReviewAgent\",\n",
    "    description=\"Reviews a report and gives feedback.\",\n",
    "    system_prompt=\"You are a reviewer…\",  # etc.\n",
    "    llm=llm,\n",
    "    tools=[review_report],\n",
    "    can_handoff_to=[\"WriteAgent\"],\n",
    ")"
   ]
  },
  {
   "cell_type": "code",
   "execution_count": 27,
   "id": "5e3d2216",
   "metadata": {},
   "outputs": [
    {
     "name": "stdout",
     "output_type": "stream",
     "text": [
      "The report on the history of the web has been successfully created. Here’s a summary of the feedback for improvement:\n",
      "\n",
      "1. **Structure and Overview**: The report is well-structured and provides a comprehensive overview of key milestones in the history of the web.\n",
      "\n",
      "2. **Content Suggestions**:\n",
      "   - Include specific examples of influential websites or technologies that shaped the web's development.\n",
      "   - Add a brief discussion on the impact of the web on society and culture to enhance the report's depth.\n",
      "\n",
      "If you would like to make any changes or need further assistance, please let me know!\n"
     ]
    }
   ],
   "source": [
    "agent_workflow = AgentWorkflow(\n",
    "    agents=[research_agent, write_agent, review_agent],\n",
    "    root_agent=research_agent.name,\n",
    "    initial_state={\n",
    "        \"research_notes\": {},\n",
    "        \"report_content\": \"Not written yet.\",\n",
    "        \"review\": \"Review required.\",\n",
    "    },\n",
    ")\n",
    "\n",
    "resp = await agent_workflow.run(\n",
    "    user_msg=\"Write me a report on the history of the web …\"\n",
    ")\n",
    "print(resp)"
   ]
  }
 ],
 "metadata": {
  "kernelspec": {
   "display_name": "Python 3",
   "language": "python",
   "name": "python3"
  },
  "language_info": {
   "codemirror_mode": {
    "name": "ipython",
    "version": 3
   },
   "file_extension": ".py",
   "mimetype": "text/x-python",
   "name": "python",
   "nbconvert_exporter": "python",
   "pygments_lexer": "ipython3",
   "version": "3.13.2"
  }
 },
 "nbformat": 4,
 "nbformat_minor": 5
}
